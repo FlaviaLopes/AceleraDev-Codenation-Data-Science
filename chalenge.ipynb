{
 "cells": [
  {
   "cell_type": "markdown",
   "metadata": {},
   "source": [
    "<div class=\"alert alert-block alert-info\">\n",
    "    <a href=\"https://www.linkedin.com/in/lopesflavia\"><img alt=\"Flávia Lopes. Let's code :)\" src=\"logo.png\" width=250px, align=\"center\"></a>\n",
    "</div>"
   ]
  },
  {
   "cell_type": "markdown",
   "metadata": {},
   "source": [
    "<div class=\"alert alert-block alert-info\">\n",
    "    <h1>Previsão da Nota de Matemática do Enem 2016</h1>\n",
    "<div style=\"margin-top: 20px\">    \n",
    "    <ul>\n",
    "        <li>Dicionário dos Microdados do Enem 2016:<br>\n",
    "            <a href=\"https://s3-us-west-1.amazonaws.com/acceleration-assets-highway/data-science/dicionario-de-dados.zip\">https://s3-us-west-1.amazonaws.com/acceleration-assets-highway/data-science/dicionario-de-dados.zip</a>\n",
    "        </li>\n",
    "        <li>Fonte dos dados:<br>\n",
    "            <a href=\"https://s3-us-west-1.amazonaws.com/codenation-challenges/enem-ps/testfiles.zip\">https://s3-us-west-1.amazonaws.com/codenation-challenges/enem-ps/testfiles.zip</a>\n",
    "        </li>\n",
    "        <li>Formato dos dados: csv\n",
    "        </li>\n",
    "        <li>Dados Faltantes: sim\n",
    "        </li>\n",
    "    </ul>\n",
    "</div>\n",
    "    <h2>Detalhes</h2>\n",
    "    <ol>\n",
    "        <li>Você deverá criar um modelo para prever a nota da prova de matemática de quem participou do ENEM 2016.</li>\n",
    "        <li>O contexto do desafio gira em torno dos resultados do ENEM 2016 (disponíveis no arquivo train.csv). Este arquivo, e apenas ele, deve ser utilizado para todos os desafios. Qualquer dúvida a respeito das colunas, consulte o Dicionário dos Microdados do Enem 2016.</li>\n",
    "        <li>No arquivo test.csv crie um modelo para prever nota da prova de matemática (coluna NU_NOTA_MT) de quem participou do ENEM 2016.\n",
    "    Salve sua resposta em um arquivo chamado answer.csv com duas colunas: NU_INSCRICAO e NU_NOTA_MT.\n",
    "    Faça o upload do arquivo answer.csv usando o botão “Submeter resposta”.</li>\n",
    "    </ol>       \n",
    "    <ul>\n",
    "        <li>Lógica</li>\n",
    "        <li>Análise de dados</li>\n",
    "        <li>Estatística</li>\n",
    "        <li>Regression</li>\n",
    "    </ul>\n",
    "</div>"
   ]
  },
  {
   "cell_type": "markdown",
   "metadata": {},
   "source": [
    "<a id=\"contents\"></a>\n",
    "<h2>Tabela de Conteúdo</h2>\n",
    "\n",
    "<div class=\"alert alert-block alert-info\" style=\"margin-top: 20px\">\n",
    "    <ol>\n",
    "        <li><a href=\"#acquisition\">Aquisição e Preparação dos Dados</a></li>\n",
    "        <li><a href=\"#eda\">Análise Exploratória de Dados: Visualização</a></li>\n",
    "        <li><a href=\"#feature_engineering_1\">Feature Engineering - Part 1</a>\n",
    "        <ol>\n",
    "            <li><a href=\"#anova\">ANOVA</a></li>\n",
    "            <li><a href=\"#selected_features\">Features Selecinadas</a></li></ol>\n",
    "        </li>       \n",
    "        <li><a href=\"#feature_engineering_2\">Feature Engineering - Part 2</a></li>\n",
    "        <li><a href=\"#data_to_model\">Preparando os Dados para o Modelo</a></li>\n",
    "        <li><a href=\"#model_development_mlr\">Do Modelo à Evaluação: MLR</a>  \n",
    "            <ol>\n",
    "                <li><a href=\"#evaluation_in\">In-Sample Evaluation</a></li>\n",
    "                <li><a href=\"#evaluation_out\">Out-Sample Evaluation</a></li>\n",
    "                <li><a href=\"#evaluation_visualization\">Visualização: Y x Y^</a></li>\n",
    "            </ol>\n",
    "        </li>        \n",
    "    </ol>\n",
    "</div>\n",
    "<hr>"
   ]
  },
  {
   "cell_type": "markdown",
   "metadata": {},
   "source": [
    "<a  id=\"acquisition\"></a>\n",
    "<h2>Aquisição e Preparação dos Dados</h2>"
   ]
  },
  {
   "cell_type": "code",
   "execution_count": 1,
   "metadata": {},
   "outputs": [],
   "source": [
    "import pandas as pd\n",
    "import numpy as np\n",
    "import seaborn as sns \n",
    "import matplotlib.pyplot as plt"
   ]
  },
  {
   "cell_type": "markdown",
   "metadata": {},
   "source": [
    "<p>O problema deve ser resolvido com os dados fornecidos, conjuntos train e test. O conjunto test é para aplicar o modelo treinado, obter a previsão e submeter o resultado no desafio.\n",
    "Veja que eles têm quantidades de colunas (features) diferentes. Significa que o modelo vai trabalhar com as features existentes em test, no máximo. Portanto já eliminamos 120 features (167 - 47 = 120).</p>\n",
    "<p>Vamos ler do conjunto train apenas as colunas que estão em test.</p>\n",
    "\n",
    "### Lendo os Dados"
   ]
  },
  {
   "cell_type": "code",
   "execution_count": 2,
   "metadata": {},
   "outputs": [
    {
     "name": "stdout",
     "output_type": "stream",
     "text": [
      "Shape de test.csv: (4576, 47)\n",
      "Shape de train.csv: (13730, 167)\n",
      "Shape de test.csv: (4576, 47)\n",
      "Shape de train.csv: (13730, 48)\n"
     ]
    }
   ],
   "source": [
    "df_test = pd.read_csv('test.csv', na_values=np.nan)\n",
    "\n",
    "df = pd.read_csv('train.csv', na_values=np.nan)\n",
    "print('Shape de test.csv: {}\\nShape de train.csv: {}'.format(df_test.shape, df.shape))\n",
    "\n",
    "#remover de df o que não existe em df_test, exceto NU_NOTA_MT (target)\n",
    "to_drop = list(set(df.columns).difference(set(df_test.columns)))\n",
    "to_drop.remove('NU_NOTA_MT')\n",
    "df.drop(to_drop, axis=1, inplace=True)\n",
    "print('Shape de test.csv: {}\\nShape de train.csv: {}'.format(df_test.shape, df.shape))"
   ]
  },
  {
   "cell_type": "markdown",
   "metadata": {},
   "source": [
    "<h3> Missing Data</h3>"
   ]
  },
  {
   "cell_type": "markdown",
   "metadata": {},
   "source": [
    "Se faltou ou foi reprovado na prova de Linguagens, então levou 0 na prova de matemática.\n",
    "O mesmo raciocínio se estende para outras notas com dados faltantes cujo estado de TP_PRESENCA é 0 ou 2."
   ]
  },
  {
   "cell_type": "code",
   "execution_count": 3,
   "metadata": {},
   "outputs": [],
   "source": [
    "df.loc[df.TP_PRESENCA_LC == 0, 'NU_NOTA_MT' ] = 0\n",
    "df.loc[df.TP_PRESENCA_LC == 2, 'NU_NOTA_MT' ] = 0\n",
    "\n",
    "df_test.loc[df_test.TP_PRESENCA_LC == 0, 'NU_NOTA_LC' ] = 0\n",
    "df_test.loc[df_test.TP_PRESENCA_LC == 2, 'NU_NOTA_LC' ] = 0\n",
    "df.loc[df.TP_PRESENCA_LC == 0, 'NU_NOTA_LC' ] = 0\n",
    "df.loc[df.TP_PRESENCA_LC == 2, 'NU_NOTA_LC' ] = 0\n",
    "\n",
    "df_test.loc[df_test.TP_PRESENCA_CN == 0, 'NU_NOTA_CN' ] = 0\n",
    "df_test.loc[df_test.TP_PRESENCA_CN == 2, 'NU_NOTA_CN' ] = 0\n",
    "df.loc[df.TP_PRESENCA_CN == 0, 'NU_NOTA_CN' ] = 0\n",
    "df.loc[df.TP_PRESENCA_CN == 2, 'NU_NOTA_CN' ] = 0\n",
    "\n",
    "df_test.loc[df_test.TP_PRESENCA_CH == 0, 'NU_NOTA_CH' ] = 0\n",
    "df_test.loc[df_test.TP_PRESENCA_CH == 2, 'NU_NOTA_CH' ] = 0\n",
    "df.loc[df.TP_PRESENCA_CH == 0, 'NU_NOTA_CH' ] = 0\n",
    "df.loc[df.TP_PRESENCA_CH == 2, 'NU_NOTA_CH' ] = 0\n",
    "\n",
    "df_test.loc[df_test.TP_PRESENCA_LC == 0, 'NU_NOTA_REDACAO' ] = 0\n",
    "df_test.loc[df_test.TP_PRESENCA_LC == 2, 'NU_NOTA_REDACAO' ] = 0 \n",
    "df.loc[df.TP_PRESENCA_LC == 0, 'NU_NOTA_REDACAO' ] = 0\n",
    "df.loc[df.TP_PRESENCA_LC == 2, 'NU_NOTA_REDACAO' ] = 0 \n",
    "\n",
    "df_test.loc[df_test.TP_PRESENCA_LC == 0, ['NU_NOTA_COMP5', 'NU_NOTA_COMP4', 'NU_NOTA_COMP3','NU_NOTA_COMP2', 'NU_NOTA_COMP1']] = 0\n",
    "df_test.loc[df_test.TP_PRESENCA_LC == 2, ['NU_NOTA_COMP5', 'NU_NOTA_COMP4', 'NU_NOTA_COMP3','NU_NOTA_COMP2', 'NU_NOTA_COMP1']] = 0\n",
    "df.loc[df.TP_PRESENCA_LC == 0, ['NU_NOTA_COMP5', 'NU_NOTA_COMP4', 'NU_NOTA_COMP3','NU_NOTA_COMP2', 'NU_NOTA_COMP1']] = 0\n",
    "df.loc[df.TP_PRESENCA_LC == 2, ['NU_NOTA_COMP5', 'NU_NOTA_COMP4', 'NU_NOTA_COMP3','NU_NOTA_COMP2', 'NU_NOTA_COMP1']] = 0"
   ]
  },
  {
   "cell_type": "code",
   "execution_count": 4,
   "metadata": {
    "scrolled": true
   },
   "outputs": [
    {
     "name": "stdout",
     "output_type": "stream",
     "text": [
      "\n",
      "Dados faltantes do treino - Antes da exclusão\n",
      "\n",
      "                        Total   Percent\n",
      "TP_ENSINO                9448  0.688128\n",
      "TP_DEPENDENCIA_ADM_ESC   9448  0.688128\n",
      "Q027                     7373  0.536999\n",
      "TP_STATUS_REDACAO        3597  0.261981\n",
      "\n",
      "Dados faltantes do teste - Antes da exclusão\n",
      "\n",
      "                        Total   Percent\n",
      "TP_DEPENDENCIA_ADM_ESC   3096  0.676573\n",
      "TP_ENSINO                3096  0.676573\n",
      "Q027                     2488  0.543706\n",
      "TP_STATUS_REDACAO        1199  0.262019\n"
     ]
    }
   ],
   "source": [
    "nu_missing = df.isnull().sum().sort_values(ascending=False).copy()\n",
    "nu_percent = df.isnull().sum() / df.isnull().count().copy()\n",
    "\n",
    "total_df = pd.concat([nu_missing, nu_percent], axis=1, keys=['Total', 'Percent'], sort=True).sort_values(by='Total', ascending=False)\n",
    "total_df = total_df[total_df['Total'] > 0]\n",
    "\n",
    "nu_missing = df_test.isnull().sum().sort_values(ascending=False).copy()\n",
    "nu_percent = df_test.isnull().sum() / df_test.isnull().count().copy()\n",
    "\n",
    "total_df_test = pd.concat([nu_missing, nu_percent], axis=1, keys=['Total', 'Percent'], sort=True).sort_values(by='Total', ascending=False)\n",
    "total_df_test = total_df_test[total_df_test['Total'] > 0]\n",
    "\n",
    "\n",
    "more_than_15_percent = total_df[total_df['Percent'] > 0.15].index.tolist()\n",
    "to_drop = list(set(more_than_15_percent))\n",
    "df.drop(to_drop, axis=1, inplace=True)\n",
    "\n",
    "more_than_15_percent = total_df_test[total_df_test['Percent'] > 0.15].index.tolist()\n",
    "to_drop = list(set(more_than_15_percent))\n",
    "df_test.drop(to_drop, axis=1, inplace=True)\n",
    "\n",
    "print('\\nDados faltantes do treino - Antes da exclusão\\n')\n",
    "print(total_df)\n",
    "print('\\nDados faltantes do teste - Antes da exclusão\\n')\n",
    "print(total_df_test)"
   ]
  },
  {
   "cell_type": "code",
   "execution_count": 5,
   "metadata": {},
   "outputs": [
    {
     "data": {
      "text/plain": [
       "(False, False)"
      ]
     },
     "execution_count": 5,
     "metadata": {},
     "output_type": "execute_result"
    }
   ],
   "source": [
    "(df.isnull().sum()).any(), (df_test.isnull().sum()).any()"
   ]
  },
  {
   "cell_type": "markdown",
   "metadata": {},
   "source": [
    "### astype('category')\n",
    "\n",
    "- Converter variáveis categóricas para tipo 'category' salva memória:\n",
    "    - Redução de 3.6+MB para 1.3MB"
   ]
  },
  {
   "cell_type": "code",
   "execution_count": 6,
   "metadata": {},
   "outputs": [
    {
     "data": {
      "text/plain": [
       "NU_INSCRICAO         object\n",
       "CO_UF_RESIDENCIA      int64\n",
       "SG_UF_RESIDENCIA     object\n",
       "NU_IDADE              int64\n",
       "TP_SEXO              object\n",
       "TP_COR_RACA           int64\n",
       "TP_NACIONALIDADE      int64\n",
       "TP_ST_CONCLUSAO       int64\n",
       "TP_ANO_CONCLUIU       int64\n",
       "TP_ESCOLA             int64\n",
       "IN_TREINEIRO          int64\n",
       "IN_BAIXA_VISAO        int64\n",
       "IN_CEGUEIRA           int64\n",
       "IN_SURDEZ             int64\n",
       "IN_DISLEXIA           int64\n",
       "IN_DISCALCULIA        int64\n",
       "IN_SABATISTA          int64\n",
       "IN_GESTANTE           int64\n",
       "IN_IDOSO              int64\n",
       "TP_PRESENCA_CN        int64\n",
       "TP_PRESENCA_CH        int64\n",
       "TP_PRESENCA_LC        int64\n",
       "CO_PROVA_CN          object\n",
       "CO_PROVA_CH          object\n",
       "CO_PROVA_LC          object\n",
       "CO_PROVA_MT          object\n",
       "NU_NOTA_CN          float64\n",
       "NU_NOTA_CH          float64\n",
       "NU_NOTA_LC          float64\n",
       "NU_NOTA_MT          float64\n",
       "TP_LINGUA             int64\n",
       "NU_NOTA_COMP1       float64\n",
       "NU_NOTA_COMP2       float64\n",
       "NU_NOTA_COMP3       float64\n",
       "NU_NOTA_COMP4       float64\n",
       "NU_NOTA_COMP5       float64\n",
       "NU_NOTA_REDACAO     float64\n",
       "Q001                 object\n",
       "Q002                 object\n",
       "Q006                 object\n",
       "Q024                 object\n",
       "Q025                 object\n",
       "Q026                 object\n",
       "Q047                 object\n",
       "dtype: object"
      ]
     },
     "execution_count": 6,
     "metadata": {},
     "output_type": "execute_result"
    }
   ],
   "source": [
    "df.dtypes"
   ]
  },
  {
   "cell_type": "code",
   "execution_count": 7,
   "metadata": {
    "scrolled": false
   },
   "outputs": [],
   "source": [
    "to_categorical = df.dtypes[(df.dtypes == 'int') | (df.dtypes == 'object')].index.values\n",
    "for it in to_categorical:\n",
    "    df.loc[:, it] = df.loc[:, it].astype('category')\n",
    "    \n",
    "to_categorical = df_test.dtypes[(df_test.dtypes == 'int') | (df_test.dtypes == 'object')].index.values\n",
    "for it in to_categorical:\n",
    "    df_test.loc[:, it] = df_test.loc[:, it].astype('category')"
   ]
  },
  {
   "cell_type": "markdown",
   "metadata": {},
   "source": [
    "<a href=\"#contents\" class=\"btn btn-success\" style=\"padding:10px;text-decoration:none;\">Voltar ao Topo</a>"
   ]
  },
  {
   "cell_type": "markdown",
   "metadata": {},
   "source": [
    "<a  id=\"eda\"></a>\n",
    "<h2>Análise Exploratória de Dados: Visualização</h2>"
   ]
  },
  {
   "cell_type": "markdown",
   "metadata": {},
   "source": [
    "<p>Com o FacetGrid podemos ver a distribuição das notas em relação aos grupos das variável observada.</p>\n",
    "Vamos usar a média das Notas para ter um parâmetro:"
   ]
  },
  {
   "cell_type": "code",
   "execution_count": 8,
   "metadata": {},
   "outputs": [
    {
     "data": {
      "text/plain": [
       "count    13730.000000\n",
       "mean       356.092607\n",
       "std        228.844193\n",
       "min          0.000000\n",
       "25%          0.000000\n",
       "50%        422.500000\n",
       "75%        504.400000\n",
       "max        952.000000\n",
       "Name: NU_NOTA_MT, dtype: float64"
      ]
     },
     "execution_count": 8,
     "metadata": {},
     "output_type": "execute_result"
    }
   ],
   "source": [
    "xlim = tuple([df.NU_NOTA_MT.min(),df.NU_NOTA_MT.max()])\n",
    "xticks = [0, 409, 461, 538, 952]\n",
    "df.NU_NOTA_MT.describe()"
   ]
  },
  {
   "cell_type": "code",
   "execution_count": 9,
   "metadata": {},
   "outputs": [
    {
     "data": {
      "text/html": [
       "<div>\n",
       "<style scoped>\n",
       "    .dataframe tbody tr th:only-of-type {\n",
       "        vertical-align: middle;\n",
       "    }\n",
       "\n",
       "    .dataframe tbody tr th {\n",
       "        vertical-align: top;\n",
       "    }\n",
       "\n",
       "    .dataframe thead th {\n",
       "        text-align: right;\n",
       "    }\n",
       "</style>\n",
       "<table border=\"1\" class=\"dataframe\">\n",
       "  <thead>\n",
       "    <tr style=\"text-align: right;\">\n",
       "      <th></th>\n",
       "      <th>NU_NOTA_REDACAO</th>\n",
       "      <th>mean</th>\n",
       "    </tr>\n",
       "  </thead>\n",
       "  <tbody>\n",
       "    <tr>\n",
       "      <th>0</th>\n",
       "      <td>980.0</td>\n",
       "      <td>761.900000</td>\n",
       "    </tr>\n",
       "    <tr>\n",
       "      <th>1</th>\n",
       "      <td>920.0</td>\n",
       "      <td>653.432692</td>\n",
       "    </tr>\n",
       "    <tr>\n",
       "      <th>2</th>\n",
       "      <td>940.0</td>\n",
       "      <td>648.761765</td>\n",
       "    </tr>\n",
       "    <tr>\n",
       "      <th>3</th>\n",
       "      <td>960.0</td>\n",
       "      <td>647.764286</td>\n",
       "    </tr>\n",
       "    <tr>\n",
       "      <th>4</th>\n",
       "      <td>1000.0</td>\n",
       "      <td>632.000000</td>\n",
       "    </tr>\n",
       "  </tbody>\n",
       "</table>\n",
       "</div>"
      ],
      "text/plain": [
       "   NU_NOTA_REDACAO        mean\n",
       "0            980.0  761.900000\n",
       "1            920.0  653.432692\n",
       "2            940.0  648.761765\n",
       "3            960.0  647.764286\n",
       "4           1000.0  632.000000"
      ]
     },
     "execution_count": 9,
     "metadata": {},
     "output_type": "execute_result"
    }
   ],
   "source": [
    "#Veja descrição das features por categoria\n",
    "feature = 'NU_NOTA_REDACAO'\n",
    "group = df[['NU_NOTA_MT',feature]].groupby(feature).describe()\n",
    "group\n",
    "group['NU_NOTA_MT']['mean'].sort_values(ascending=False).reset_index().head()"
   ]
  },
  {
   "cell_type": "code",
   "execution_count": 10,
   "metadata": {},
   "outputs": [
    {
     "data": {
      "text/plain": [
       "interactive(children=(Dropdown(description='facet_feature', options=('NU_INSCRICAO', 'CO_UF_RESIDENCIA', 'SG_U…"
      ]
     },
     "metadata": {},
     "output_type": "display_data"
    }
   ],
   "source": [
    "from IPython.display import display\n",
    "from ipywidgets import interact_manual\n",
    "import ipywidgets as widgets\n",
    "\n",
    "def facet_grid(facet_feature, target_feature):\n",
    "    g = sns.FacetGrid(df, col=facet_feature, col_wrap=2, height=4, aspect=1.5, sharex=False, legend_out=False)\n",
    "    g.map(plt.hist, target_feature).set(\n",
    "        xlim=xlim,\n",
    "        xticks= xticks\n",
    "    )\n",
    "    \n",
    "_ = interact_manual(facet_grid,\n",
    "                    facet_feature = df,\n",
    "                    target_feature = widgets.widget_string.Label('NU_NOTA_MT')\n",
    "                   )"
   ]
  },
  {
   "cell_type": "code",
   "execution_count": 11,
   "metadata": {},
   "outputs": [
    {
     "data": {
      "text/plain": [
       "count    13730.000000\n",
       "mean       356.092607\n",
       "std        228.844193\n",
       "min          0.000000\n",
       "25%          0.000000\n",
       "50%        422.500000\n",
       "75%        504.400000\n",
       "max        952.000000\n",
       "Name: NU_NOTA_MT, dtype: float64"
      ]
     },
     "execution_count": 11,
     "metadata": {},
     "output_type": "execute_result"
    }
   ],
   "source": [
    "df.NU_NOTA_MT.describe()"
   ]
  },
  {
   "cell_type": "code",
   "execution_count": 12,
   "metadata": {
    "scrolled": true
   },
   "outputs": [
    {
     "data": {
      "image/png": "[encoded data removed]",
      "text/plain": [
       "<Figure size 432x288 with 1 Axes>"
      ]
     },
     "metadata": {
      "needs_background": "light"
     },
     "output_type": "display_data"
    }
   ],
   "source": [
    "#histogram\n",
    "sns.distplot(df.NU_NOTA_MT);\n"
   ]
  },
  {
   "cell_type": "markdown",
   "metadata": {},
   "source": [
    "<a href=\"#contents\" class=\"btn btn-success\" style=\"padding:10px;text-decoration:none;\">Voltar ao Topo</a>"
   ]
  },
  {
   "cell_type": "markdown",
   "metadata": {},
   "source": [
    "<a id=\"feature_engineering_1\"></a>\n",
    "\n",
    "<h2>Feature Engineering - Part 1</h2>"
   ]
  },
  {
   "cell_type": "markdown",
   "metadata": {},
   "source": [
    "Vamos analisar as variáveis de notas e ver se podemos fazer alguma transformação:\n",
    "- NU_NOTA_MT, NU_NOTA_CN, NU_NOTA_CH, NU_NOTA_LC e NU_NOTA_REDACAO\t"
   ]
  },
  {
   "cell_type": "code",
   "execution_count": 13,
   "metadata": {},
   "outputs": [
    {
     "data": {
      "text/html": [
       "<div>\n",
       "<style scoped>\n",
       "    .dataframe tbody tr th:only-of-type {\n",
       "        vertical-align: middle;\n",
       "    }\n",
       "\n",
       "    .dataframe tbody tr th {\n",
       "        vertical-align: top;\n",
       "    }\n",
       "\n",
       "    .dataframe thead th {\n",
       "        text-align: right;\n",
       "    }\n",
       "</style>\n",
       "<table border=\"1\" class=\"dataframe\">\n",
       "  <thead>\n",
       "    <tr style=\"text-align: right;\">\n",
       "      <th></th>\n",
       "      <th>NU_NOTA_MT</th>\n",
       "      <th>NU_NOTA_CN</th>\n",
       "      <th>NU_NOTA_CH</th>\n",
       "      <th>NU_NOTA_LC</th>\n",
       "      <th>NU_NOTA_REDACAO</th>\n",
       "      <th>TOTAL_PARCIAL</th>\n",
       "      <th>NU_NOTA_DIA1</th>\n",
       "      <th>NU_NOTA_DIA2_PARCIAL</th>\n",
       "    </tr>\n",
       "  </thead>\n",
       "  <tbody>\n",
       "    <tr>\n",
       "      <th>NU_NOTA_MT</th>\n",
       "      <td>1.000000</td>\n",
       "      <td>0.907039</td>\n",
       "      <td>0.903608</td>\n",
       "      <td>0.943954</td>\n",
       "      <td>0.875929</td>\n",
       "      <td>0.934712</td>\n",
       "      <td>0.912263</td>\n",
       "      <td>0.915306</td>\n",
       "    </tr>\n",
       "    <tr>\n",
       "      <th>NU_NOTA_CN</th>\n",
       "      <td>0.907039</td>\n",
       "      <td>1.000000</td>\n",
       "      <td>0.969323</td>\n",
       "      <td>0.920917</td>\n",
       "      <td>0.857810</td>\n",
       "      <td>0.953313</td>\n",
       "      <td>0.996080</td>\n",
       "      <td>0.895280</td>\n",
       "    </tr>\n",
       "    <tr>\n",
       "      <th>NU_NOTA_CH</th>\n",
       "      <td>0.903608</td>\n",
       "      <td>0.969323</td>\n",
       "      <td>1.000000</td>\n",
       "      <td>0.934704</td>\n",
       "      <td>0.871199</td>\n",
       "      <td>0.958907</td>\n",
       "      <td>0.987264</td>\n",
       "      <td>0.909072</td>\n",
       "    </tr>\n",
       "    <tr>\n",
       "      <th>NU_NOTA_LC</th>\n",
       "      <td>0.943954</td>\n",
       "      <td>0.920917</td>\n",
       "      <td>0.934704</td>\n",
       "      <td>1.000000</td>\n",
       "      <td>0.904795</td>\n",
       "      <td>0.966805</td>\n",
       "      <td>0.932435</td>\n",
       "      <td>0.953226</td>\n",
       "    </tr>\n",
       "    <tr>\n",
       "      <th>NU_NOTA_REDACAO</th>\n",
       "      <td>0.875929</td>\n",
       "      <td>0.857810</td>\n",
       "      <td>0.871199</td>\n",
       "      <td>0.904795</td>\n",
       "      <td>1.000000</td>\n",
       "      <td>0.967367</td>\n",
       "      <td>0.868736</td>\n",
       "      <td>0.991190</td>\n",
       "    </tr>\n",
       "    <tr>\n",
       "      <th>TOTAL_PARCIAL</th>\n",
       "      <td>0.934712</td>\n",
       "      <td>0.953313</td>\n",
       "      <td>0.958907</td>\n",
       "      <td>0.966805</td>\n",
       "      <td>0.967367</td>\n",
       "      <td>1.000000</td>\n",
       "      <td>0.962114</td>\n",
       "      <td>0.987314</td>\n",
       "    </tr>\n",
       "    <tr>\n",
       "      <th>NU_NOTA_DIA1</th>\n",
       "      <td>0.912263</td>\n",
       "      <td>0.996080</td>\n",
       "      <td>0.987264</td>\n",
       "      <td>0.932435</td>\n",
       "      <td>0.868736</td>\n",
       "      <td>0.962114</td>\n",
       "      <td>1.000000</td>\n",
       "      <td>0.906618</td>\n",
       "    </tr>\n",
       "    <tr>\n",
       "      <th>NU_NOTA_DIA2_PARCIAL</th>\n",
       "      <td>0.915306</td>\n",
       "      <td>0.895280</td>\n",
       "      <td>0.909072</td>\n",
       "      <td>0.953226</td>\n",
       "      <td>0.991190</td>\n",
       "      <td>0.987314</td>\n",
       "      <td>0.906618</td>\n",
       "      <td>1.000000</td>\n",
       "    </tr>\n",
       "  </tbody>\n",
       "</table>\n",
       "</div>"
      ],
      "text/plain": [
       "                      NU_NOTA_MT  NU_NOTA_CN  NU_NOTA_CH  NU_NOTA_LC  \\\n",
       "NU_NOTA_MT              1.000000    0.907039    0.903608    0.943954   \n",
       "NU_NOTA_CN              0.907039    1.000000    0.969323    0.920917   \n",
       "NU_NOTA_CH              0.903608    0.969323    1.000000    0.934704   \n",
       "NU_NOTA_LC              0.943954    0.920917    0.934704    1.000000   \n",
       "NU_NOTA_REDACAO         0.875929    0.857810    0.871199    0.904795   \n",
       "TOTAL_PARCIAL           0.934712    0.953313    0.958907    0.966805   \n",
       "NU_NOTA_DIA1            0.912263    0.996080    0.987264    0.932435   \n",
       "NU_NOTA_DIA2_PARCIAL    0.915306    0.895280    0.909072    0.953226   \n",
       "\n",
       "                      NU_NOTA_REDACAO  TOTAL_PARCIAL  NU_NOTA_DIA1  \\\n",
       "NU_NOTA_MT                   0.875929       0.934712      0.912263   \n",
       "NU_NOTA_CN                   0.857810       0.953313      0.996080   \n",
       "NU_NOTA_CH                   0.871199       0.958907      0.987264   \n",
       "NU_NOTA_LC                   0.904795       0.966805      0.932435   \n",
       "NU_NOTA_REDACAO              1.000000       0.967367      0.868736   \n",
       "TOTAL_PARCIAL                0.967367       1.000000      0.962114   \n",
       "NU_NOTA_DIA1                 0.868736       0.962114      1.000000   \n",
       "NU_NOTA_DIA2_PARCIAL         0.991190       0.987314      0.906618   \n",
       "\n",
       "                      NU_NOTA_DIA2_PARCIAL  \n",
       "NU_NOTA_MT                        0.915306  \n",
       "NU_NOTA_CN                        0.895280  \n",
       "NU_NOTA_CH                        0.909072  \n",
       "NU_NOTA_LC                        0.953226  \n",
       "NU_NOTA_REDACAO                   0.991190  \n",
       "TOTAL_PARCIAL                     0.987314  \n",
       "NU_NOTA_DIA1                      0.906618  \n",
       "NU_NOTA_DIA2_PARCIAL              1.000000  "
      ]
     },
     "execution_count": 13,
     "metadata": {},
     "output_type": "execute_result"
    }
   ],
   "source": [
    "temp = df[['NU_NOTA_MT','NU_NOTA_CN','NU_NOTA_CH','NU_NOTA_LC','NU_NOTA_REDACAO']].copy()\n",
    "pesos = [2, 1, 1.5, 3]\n",
    "temp['TOTAL_PARCIAL'] = (temp.values[:,1:5] * pesos).sum(axis=1) / sum(pesos)\n",
    "temp['NU_NOTA_DIA1'] = (temp.values[:,1:3] * pesos[0:2]).sum(axis=1) / sum(pesos[0:2])\n",
    "temp['NU_NOTA_DIA2_PARCIAL'] = (temp.values[:,3:5] * pesos[2:]).sum(axis=1) / sum(pesos[2:])\n",
    "temp.corr()"
   ]
  },
  {
   "cell_type": "markdown",
   "metadata": {},
   "source": [
    "Pode ser interessante fazer um teste e substituir as variáveis de notas por notas do dia, respeitando o cálculo de média ponderada do Enem. \n",
    "- NU_NOTA_MT, NU_NOTA_CN, NU_NOTA_CH, NU_NOTA_LC e NU_NOTA_REDACAO: \n",
    "    - (NU_NOTA_DIA1 e NU_NOTA_DIA2_PARCIAL) ou\n",
    "    - TOTAL_PARCIAL"
   ]
  },
  {
   "cell_type": "markdown",
   "metadata": {},
   "source": [
    "### Investigando variáveis\n",
    "\n",
    "####  NU_IDADE, TP_ST_CONCLUSAO, TP_ANO_CONCLUIU (descartar)\n",
    "<label><input type=\"checkbox\">  NU_IDADE:</label> \n",
    "    - NU_IDADE: TP_ST_CONCLUSAO em relação à idade.\n",
    "    - Conclusão: criar variável separando idade em 3 categorias: (0,16], (16,18], (18,25], (25,66] \n",
    "<label><input type=\"checkbox\">  TP_ST_CONCLUSAO:</label> \n",
    "    - TP_ST_CONCLUSAO: aplicar map: {4:1, 3:2, 2:3, 1:4}\n",
    "        \n",
    "#### Q001, Q002\n",
    "<label><input type=\"checkbox\">  Q001 e Q002:</label> Categorias: A e B = 1, H = 2, C e D = 3, E = 4, F = 5, G = 6. \n",
    "#### Q006\n",
    "<label><input type=\"checkbox\">  Q006:</label> Reagrupamento de categorias e conversão para numéricas (duas em duas), exceto Q.\n",
    "#### Q047\n",
    "<label><input type=\"checkbox\">  Q047:</label> Reordenamento e conversão para numéricas de acordo com ranqueamento da média de NU_NOTA_MT\n",
    "    \n",
    "<br><hr>"
   ]
  },
  {
   "cell_type": "code",
   "execution_count": 14,
   "metadata": {
    "scrolled": true
   },
   "outputs": [
    {
     "data": {
      "text/html": [
       "<div>\n",
       "<style scoped>\n",
       "    .dataframe tbody tr th:only-of-type {\n",
       "        vertical-align: middle;\n",
       "    }\n",
       "\n",
       "    .dataframe tbody tr th {\n",
       "        vertical-align: top;\n",
       "    }\n",
       "\n",
       "    .dataframe thead th {\n",
       "        text-align: right;\n",
       "    }\n",
       "</style>\n",
       "<table border=\"1\" class=\"dataframe\">\n",
       "  <thead>\n",
       "    <tr style=\"text-align: right;\">\n",
       "      <th></th>\n",
       "      <th>count</th>\n",
       "      <th>mean</th>\n",
       "      <th>std</th>\n",
       "      <th>min</th>\n",
       "      <th>25%</th>\n",
       "      <th>50%</th>\n",
       "      <th>75%</th>\n",
       "      <th>max</th>\n",
       "    </tr>\n",
       "    <tr>\n",
       "      <th>TP_ST_CONCLUSAO</th>\n",
       "      <th></th>\n",
       "      <th></th>\n",
       "      <th></th>\n",
       "      <th></th>\n",
       "      <th></th>\n",
       "      <th></th>\n",
       "      <th></th>\n",
       "      <th></th>\n",
       "    </tr>\n",
       "  </thead>\n",
       "  <tbody>\n",
       "    <tr>\n",
       "      <th>1</th>\n",
       "      <td>6524.0</td>\n",
       "      <td>24.598099</td>\n",
       "      <td>7.630657</td>\n",
       "      <td>16.0</td>\n",
       "      <td>19.0</td>\n",
       "      <td>22.0</td>\n",
       "      <td>27.0</td>\n",
       "      <td>67.0</td>\n",
       "    </tr>\n",
       "    <tr>\n",
       "      <th>2</th>\n",
       "      <td>4283.0</td>\n",
       "      <td>18.388513</td>\n",
       "      <td>3.513885</td>\n",
       "      <td>15.0</td>\n",
       "      <td>17.0</td>\n",
       "      <td>18.0</td>\n",
       "      <td>18.0</td>\n",
       "      <td>59.0</td>\n",
       "    </tr>\n",
       "    <tr>\n",
       "      <th>3</th>\n",
       "      <td>2306.0</td>\n",
       "      <td>17.360798</td>\n",
       "      <td>3.510246</td>\n",
       "      <td>13.0</td>\n",
       "      <td>16.0</td>\n",
       "      <td>17.0</td>\n",
       "      <td>17.0</td>\n",
       "      <td>56.0</td>\n",
       "    </tr>\n",
       "    <tr>\n",
       "      <th>4</th>\n",
       "      <td>617.0</td>\n",
       "      <td>27.897893</td>\n",
       "      <td>9.127752</td>\n",
       "      <td>14.0</td>\n",
       "      <td>21.0</td>\n",
       "      <td>25.0</td>\n",
       "      <td>33.0</td>\n",
       "      <td>65.0</td>\n",
       "    </tr>\n",
       "  </tbody>\n",
       "</table>\n",
       "</div>"
      ],
      "text/plain": [
       "                  count       mean       std   min   25%   50%   75%   max\n",
       "TP_ST_CONCLUSAO                                                           \n",
       "1                6524.0  24.598099  7.630657  16.0  19.0  22.0  27.0  67.0\n",
       "2                4283.0  18.388513  3.513885  15.0  17.0  18.0  18.0  59.0\n",
       "3                2306.0  17.360798  3.510246  13.0  16.0  17.0  17.0  56.0\n",
       "4                 617.0  27.897893  9.127752  14.0  21.0  25.0  33.0  65.0"
      ]
     },
     "execution_count": 14,
     "metadata": {},
     "output_type": "execute_result"
    }
   ],
   "source": [
    "temp = df[['TP_ST_CONCLUSAO','NU_IDADE']].copy().astype(int)\n",
    "temp = temp.groupby('TP_ST_CONCLUSAO')['NU_IDADE']\n",
    "temp.describe()"
   ]
  },
  {
   "cell_type": "code",
   "execution_count": 15,
   "metadata": {},
   "outputs": [
    {
     "data": {
      "text/plain": [
       "3    5073\n",
       "2    4908\n",
       "4    2437\n",
       "1    1312\n",
       "Name: NU_IDADE_CATEGORY, dtype: int64"
      ]
     },
     "execution_count": 15,
     "metadata": {},
     "output_type": "execute_result"
    }
   ],
   "source": [
    "df['NU_IDADE_CATEGORY'] = pd.cut(df.NU_IDADE, [0,16,18,25,67], labels=[1,2,3,4])\n",
    "df.NU_IDADE_CATEGORY.value_counts()"
   ]
  },
  {
   "cell_type": "code",
   "execution_count": 16,
   "metadata": {},
   "outputs": [
    {
     "data": {
      "text/plain": [
       "3    1686\n",
       "2    1649\n",
       "4     823\n",
       "1     418\n",
       "Name: NU_IDADE_CATEGORY, dtype: int64"
      ]
     },
     "execution_count": 16,
     "metadata": {},
     "output_type": "execute_result"
    }
   ],
   "source": [
    "df_test['NU_IDADE_CATEGORY'] = pd.cut(df_test.NU_IDADE, [0,16,18,25,67], labels=[1,2,3,4])\n",
    "df_test.NU_IDADE_CATEGORY.value_counts()"
   ]
  },
  {
   "cell_type": "code",
   "execution_count": 17,
   "metadata": {},
   "outputs": [
    {
     "data": {
      "text/html": [
       "<div>\n",
       "<style scoped>\n",
       "    .dataframe tbody tr th:only-of-type {\n",
       "        vertical-align: middle;\n",
       "    }\n",
       "\n",
       "    .dataframe tbody tr th {\n",
       "        vertical-align: top;\n",
       "    }\n",
       "\n",
       "    .dataframe thead th {\n",
       "        text-align: right;\n",
       "    }\n",
       "</style>\n",
       "<table border=\"1\" class=\"dataframe\">\n",
       "  <thead>\n",
       "    <tr style=\"text-align: right;\">\n",
       "      <th></th>\n",
       "      <th>count</th>\n",
       "      <th>mean</th>\n",
       "      <th>std</th>\n",
       "      <th>min</th>\n",
       "      <th>25%</th>\n",
       "      <th>50%</th>\n",
       "      <th>75%</th>\n",
       "      <th>max</th>\n",
       "    </tr>\n",
       "    <tr>\n",
       "      <th>TP_ST_CONCLUSAO</th>\n",
       "      <th></th>\n",
       "      <th></th>\n",
       "      <th></th>\n",
       "      <th></th>\n",
       "      <th></th>\n",
       "      <th></th>\n",
       "      <th></th>\n",
       "      <th></th>\n",
       "    </tr>\n",
       "  </thead>\n",
       "  <tbody>\n",
       "    <tr>\n",
       "      <th>1</th>\n",
       "      <td>6524.0</td>\n",
       "      <td>327.109902</td>\n",
       "      <td>246.612076</td>\n",
       "      <td>0.0</td>\n",
       "      <td>0.0</td>\n",
       "      <td>413.0</td>\n",
       "      <td>503.0</td>\n",
       "      <td>935.0</td>\n",
       "    </tr>\n",
       "    <tr>\n",
       "      <th>2</th>\n",
       "      <td>4283.0</td>\n",
       "      <td>407.491478</td>\n",
       "      <td>194.341346</td>\n",
       "      <td>0.0</td>\n",
       "      <td>379.0</td>\n",
       "      <td>439.0</td>\n",
       "      <td>516.0</td>\n",
       "      <td>952.0</td>\n",
       "    </tr>\n",
       "    <tr>\n",
       "      <th>3</th>\n",
       "      <td>2306.0</td>\n",
       "      <td>378.354293</td>\n",
       "      <td>203.395358</td>\n",
       "      <td>0.0</td>\n",
       "      <td>365.0</td>\n",
       "      <td>427.0</td>\n",
       "      <td>499.0</td>\n",
       "      <td>895.0</td>\n",
       "    </tr>\n",
       "    <tr>\n",
       "      <th>4</th>\n",
       "      <td>617.0</td>\n",
       "      <td>215.160454</td>\n",
       "      <td>234.419853</td>\n",
       "      <td>0.0</td>\n",
       "      <td>0.0</td>\n",
       "      <td>0.0</td>\n",
       "      <td>443.0</td>\n",
       "      <td>681.0</td>\n",
       "    </tr>\n",
       "  </tbody>\n",
       "</table>\n",
       "</div>"
      ],
      "text/plain": [
       "                  count        mean         std  min    25%    50%    75%  \\\n",
       "TP_ST_CONCLUSAO                                                             \n",
       "1                6524.0  327.109902  246.612076  0.0    0.0  413.0  503.0   \n",
       "2                4283.0  407.491478  194.341346  0.0  379.0  439.0  516.0   \n",
       "3                2306.0  378.354293  203.395358  0.0  365.0  427.0  499.0   \n",
       "4                 617.0  215.160454  234.419853  0.0    0.0    0.0  443.0   \n",
       "\n",
       "                   max  \n",
       "TP_ST_CONCLUSAO         \n",
       "1                935.0  \n",
       "2                952.0  \n",
       "3                895.0  \n",
       "4                681.0  "
      ]
     },
     "execution_count": 17,
     "metadata": {},
     "output_type": "execute_result"
    }
   ],
   "source": [
    "temp = df[['TP_ST_CONCLUSAO','NU_NOTA_MT']].copy().astype(int)\n",
    "temp = temp.groupby('TP_ST_CONCLUSAO')['NU_NOTA_MT']\n",
    "temp.describe()"
   ]
  },
  {
   "cell_type": "code",
   "execution_count": 18,
   "metadata": {},
   "outputs": [
    {
     "data": {
      "text/plain": [
       "4    6524\n",
       "3    4283\n",
       "2    2306\n",
       "1     617\n",
       "Name: TP_ST_CONCLUSAO, dtype: int64"
      ]
     },
     "execution_count": 18,
     "metadata": {},
     "output_type": "execute_result"
    }
   ],
   "source": [
    "df.TP_ST_CONCLUSAO = df.TP_ST_CONCLUSAO.map({4:1,3:2,2:3,1:4})\n",
    "df.TP_ST_CONCLUSAO.value_counts()\n"
   ]
  },
  {
   "cell_type": "code",
   "execution_count": 19,
   "metadata": {},
   "outputs": [
    {
     "data": {
      "text/plain": [
       "4    2128\n",
       "3    1480\n",
       "2     764\n",
       "1     204\n",
       "Name: TP_ST_CONCLUSAO, dtype: int64"
      ]
     },
     "execution_count": 19,
     "metadata": {},
     "output_type": "execute_result"
    }
   ],
   "source": [
    "df_test.TP_ST_CONCLUSAO = df_test.TP_ST_CONCLUSAO.map({4:1,3:2,2:3,1:4})\n",
    "df_test.TP_ST_CONCLUSAO.value_counts()\n"
   ]
  },
  {
   "cell_type": "code",
   "execution_count": 20,
   "metadata": {
    "scrolled": false
   },
   "outputs": [
    {
     "data": {
      "text/html": [
       "<div>\n",
       "<style scoped>\n",
       "    .dataframe tbody tr th:only-of-type {\n",
       "        vertical-align: middle;\n",
       "    }\n",
       "\n",
       "    .dataframe tbody tr th {\n",
       "        vertical-align: top;\n",
       "    }\n",
       "\n",
       "    .dataframe thead th {\n",
       "        text-align: right;\n",
       "    }\n",
       "</style>\n",
       "<table border=\"1\" class=\"dataframe\">\n",
       "  <thead>\n",
       "    <tr style=\"text-align: right;\">\n",
       "      <th></th>\n",
       "      <th>count</th>\n",
       "      <th>mean</th>\n",
       "      <th>std</th>\n",
       "      <th>min</th>\n",
       "      <th>25%</th>\n",
       "      <th>50%</th>\n",
       "      <th>75%</th>\n",
       "      <th>max</th>\n",
       "    </tr>\n",
       "    <tr>\n",
       "      <th>Q001</th>\n",
       "      <th></th>\n",
       "      <th></th>\n",
       "      <th></th>\n",
       "      <th></th>\n",
       "      <th></th>\n",
       "      <th></th>\n",
       "      <th></th>\n",
       "      <th></th>\n",
       "    </tr>\n",
       "  </thead>\n",
       "  <tbody>\n",
       "    <tr>\n",
       "      <th>A</th>\n",
       "      <td>934.0</td>\n",
       "      <td>290.369165</td>\n",
       "      <td>219.922946</td>\n",
       "      <td>0.0</td>\n",
       "      <td>0.000</td>\n",
       "      <td>393.30</td>\n",
       "      <td>452.375</td>\n",
       "      <td>701.4</td>\n",
       "    </tr>\n",
       "    <tr>\n",
       "      <th>B</th>\n",
       "      <td>3309.0</td>\n",
       "      <td>317.184467</td>\n",
       "      <td>221.120509</td>\n",
       "      <td>0.0</td>\n",
       "      <td>0.000</td>\n",
       "      <td>403.80</td>\n",
       "      <td>470.400</td>\n",
       "      <td>819.8</td>\n",
       "    </tr>\n",
       "    <tr>\n",
       "      <th>C</th>\n",
       "      <td>2146.0</td>\n",
       "      <td>350.173206</td>\n",
       "      <td>221.297752</td>\n",
       "      <td>0.0</td>\n",
       "      <td>0.000</td>\n",
       "      <td>419.35</td>\n",
       "      <td>496.575</td>\n",
       "      <td>895.5</td>\n",
       "    </tr>\n",
       "    <tr>\n",
       "      <th>D</th>\n",
       "      <td>1733.0</td>\n",
       "      <td>352.419388</td>\n",
       "      <td>226.311109</td>\n",
       "      <td>0.0</td>\n",
       "      <td>0.000</td>\n",
       "      <td>422.90</td>\n",
       "      <td>499.700</td>\n",
       "      <td>862.5</td>\n",
       "    </tr>\n",
       "    <tr>\n",
       "      <th>E</th>\n",
       "      <td>3079.0</td>\n",
       "      <td>392.880286</td>\n",
       "      <td>226.145958</td>\n",
       "      <td>0.0</td>\n",
       "      <td>364.550</td>\n",
       "      <td>447.70</td>\n",
       "      <td>537.200</td>\n",
       "      <td>916.6</td>\n",
       "    </tr>\n",
       "    <tr>\n",
       "      <th>F</th>\n",
       "      <td>719.0</td>\n",
       "      <td>470.869680</td>\n",
       "      <td>232.302155</td>\n",
       "      <td>0.0</td>\n",
       "      <td>410.850</td>\n",
       "      <td>520.10</td>\n",
       "      <td>622.400</td>\n",
       "      <td>935.1</td>\n",
       "    </tr>\n",
       "    <tr>\n",
       "      <th>G</th>\n",
       "      <td>354.0</td>\n",
       "      <td>480.247740</td>\n",
       "      <td>254.046839</td>\n",
       "      <td>0.0</td>\n",
       "      <td>408.725</td>\n",
       "      <td>534.65</td>\n",
       "      <td>666.150</td>\n",
       "      <td>952.0</td>\n",
       "    </tr>\n",
       "    <tr>\n",
       "      <th>H</th>\n",
       "      <td>1456.0</td>\n",
       "      <td>335.114973</td>\n",
       "      <td>220.182430</td>\n",
       "      <td>0.0</td>\n",
       "      <td>0.000</td>\n",
       "      <td>408.60</td>\n",
       "      <td>481.125</td>\n",
       "      <td>897.0</td>\n",
       "    </tr>\n",
       "  </tbody>\n",
       "</table>\n",
       "</div>"
      ],
      "text/plain": [
       "       count        mean         std  min      25%     50%      75%    max\n",
       "Q001                                                                      \n",
       "A      934.0  290.369165  219.922946  0.0    0.000  393.30  452.375  701.4\n",
       "B     3309.0  317.184467  221.120509  0.0    0.000  403.80  470.400  819.8\n",
       "C     2146.0  350.173206  221.297752  0.0    0.000  419.35  496.575  895.5\n",
       "D     1733.0  352.419388  226.311109  0.0    0.000  422.90  499.700  862.5\n",
       "E     3079.0  392.880286  226.145958  0.0  364.550  447.70  537.200  916.6\n",
       "F      719.0  470.869680  232.302155  0.0  410.850  520.10  622.400  935.1\n",
       "G      354.0  480.247740  254.046839  0.0  408.725  534.65  666.150  952.0\n",
       "H     1456.0  335.114973  220.182430  0.0    0.000  408.60  481.125  897.0"
      ]
     },
     "execution_count": 20,
     "metadata": {},
     "output_type": "execute_result"
    }
   ],
   "source": [
    "temp = df[['Q001','NU_NOTA_MT']].copy()\n",
    "temp.groupby('Q001')['NU_NOTA_MT'].describe()"
   ]
  },
  {
   "cell_type": "code",
   "execution_count": 21,
   "metadata": {},
   "outputs": [
    {
     "data": {
      "text/plain": [
       "1    4243\n",
       "3    3879\n",
       "4    3079\n",
       "2    1456\n",
       "5     719\n",
       "6     354\n",
       "Name: Q001, dtype: int64"
      ]
     },
     "execution_count": 21,
     "metadata": {},
     "output_type": "execute_result"
    }
   ],
   "source": [
    "df.Q001 = df.Q001.replace('A', 1).replace('B',1).replace('H',2).replace('C',3).replace('D',3).replace('E',4).replace('F',5).replace('G',6)\n",
    "df.Q001.value_counts()"
   ]
  },
  {
   "cell_type": "code",
   "execution_count": 22,
   "metadata": {},
   "outputs": [
    {
     "data": {
      "text/plain": [
       "1    1411\n",
       "3    1288\n",
       "4     988\n",
       "2     537\n",
       "5     239\n",
       "6     113\n",
       "Name: Q001, dtype: int64"
      ]
     },
     "execution_count": 22,
     "metadata": {},
     "output_type": "execute_result"
    }
   ],
   "source": [
    "df_test.Q001 = df_test.Q001.replace('A', 1).replace('B',1).replace('H',2).replace('C',3).replace('D',3).replace('E',4).replace('F',5).replace('G',6)\n",
    "df_test.Q001.value_counts()"
   ]
  },
  {
   "cell_type": "code",
   "execution_count": 23,
   "metadata": {
    "scrolled": false
   },
   "outputs": [
    {
     "data": {
      "text/html": [
       "<div>\n",
       "<style scoped>\n",
       "    .dataframe tbody tr th:only-of-type {\n",
       "        vertical-align: middle;\n",
       "    }\n",
       "\n",
       "    .dataframe tbody tr th {\n",
       "        vertical-align: top;\n",
       "    }\n",
       "\n",
       "    .dataframe thead th {\n",
       "        text-align: right;\n",
       "    }\n",
       "</style>\n",
       "<table border=\"1\" class=\"dataframe\">\n",
       "  <thead>\n",
       "    <tr style=\"text-align: right;\">\n",
       "      <th></th>\n",
       "      <th>count</th>\n",
       "      <th>mean</th>\n",
       "      <th>std</th>\n",
       "      <th>min</th>\n",
       "      <th>25%</th>\n",
       "      <th>50%</th>\n",
       "      <th>75%</th>\n",
       "      <th>max</th>\n",
       "    </tr>\n",
       "    <tr>\n",
       "      <th>Q002</th>\n",
       "      <th></th>\n",
       "      <th></th>\n",
       "      <th></th>\n",
       "      <th></th>\n",
       "      <th></th>\n",
       "      <th></th>\n",
       "      <th></th>\n",
       "      <th></th>\n",
       "    </tr>\n",
       "  </thead>\n",
       "  <tbody>\n",
       "    <tr>\n",
       "      <th>A</th>\n",
       "      <td>643.0</td>\n",
       "      <td>265.117885</td>\n",
       "      <td>223.424458</td>\n",
       "      <td>0.0</td>\n",
       "      <td>0.000</td>\n",
       "      <td>375.30</td>\n",
       "      <td>441.75</td>\n",
       "      <td>794.4</td>\n",
       "    </tr>\n",
       "    <tr>\n",
       "      <th>B</th>\n",
       "      <td>2627.0</td>\n",
       "      <td>306.881804</td>\n",
       "      <td>220.892372</td>\n",
       "      <td>0.0</td>\n",
       "      <td>0.000</td>\n",
       "      <td>398.80</td>\n",
       "      <td>463.70</td>\n",
       "      <td>851.0</td>\n",
       "    </tr>\n",
       "    <tr>\n",
       "      <th>C</th>\n",
       "      <td>2162.0</td>\n",
       "      <td>334.646300</td>\n",
       "      <td>221.715825</td>\n",
       "      <td>0.0</td>\n",
       "      <td>0.000</td>\n",
       "      <td>413.60</td>\n",
       "      <td>483.40</td>\n",
       "      <td>895.5</td>\n",
       "    </tr>\n",
       "    <tr>\n",
       "      <th>D</th>\n",
       "      <td>2083.0</td>\n",
       "      <td>342.634229</td>\n",
       "      <td>225.138757</td>\n",
       "      <td>0.0</td>\n",
       "      <td>0.000</td>\n",
       "      <td>417.30</td>\n",
       "      <td>493.90</td>\n",
       "      <td>908.8</td>\n",
       "    </tr>\n",
       "    <tr>\n",
       "      <th>E</th>\n",
       "      <td>3883.0</td>\n",
       "      <td>381.378161</td>\n",
       "      <td>224.509905</td>\n",
       "      <td>0.0</td>\n",
       "      <td>356.250</td>\n",
       "      <td>442.10</td>\n",
       "      <td>525.90</td>\n",
       "      <td>935.1</td>\n",
       "    </tr>\n",
       "    <tr>\n",
       "      <th>F</th>\n",
       "      <td>964.0</td>\n",
       "      <td>469.963382</td>\n",
       "      <td>221.931991</td>\n",
       "      <td>0.0</td>\n",
       "      <td>415.575</td>\n",
       "      <td>499.60</td>\n",
       "      <td>614.70</td>\n",
       "      <td>952.0</td>\n",
       "    </tr>\n",
       "    <tr>\n",
       "      <th>G</th>\n",
       "      <td>648.0</td>\n",
       "      <td>474.965278</td>\n",
       "      <td>220.476586</td>\n",
       "      <td>0.0</td>\n",
       "      <td>404.850</td>\n",
       "      <td>503.55</td>\n",
       "      <td>630.85</td>\n",
       "      <td>868.2</td>\n",
       "    </tr>\n",
       "    <tr>\n",
       "      <th>H</th>\n",
       "      <td>720.0</td>\n",
       "      <td>324.411389</td>\n",
       "      <td>219.280332</td>\n",
       "      <td>0.0</td>\n",
       "      <td>0.000</td>\n",
       "      <td>404.65</td>\n",
       "      <td>467.85</td>\n",
       "      <td>897.0</td>\n",
       "    </tr>\n",
       "  </tbody>\n",
       "</table>\n",
       "</div>"
      ],
      "text/plain": [
       "       count        mean         std  min      25%     50%     75%    max\n",
       "Q002                                                                     \n",
       "A      643.0  265.117885  223.424458  0.0    0.000  375.30  441.75  794.4\n",
       "B     2627.0  306.881804  220.892372  0.0    0.000  398.80  463.70  851.0\n",
       "C     2162.0  334.646300  221.715825  0.0    0.000  413.60  483.40  895.5\n",
       "D     2083.0  342.634229  225.138757  0.0    0.000  417.30  493.90  908.8\n",
       "E     3883.0  381.378161  224.509905  0.0  356.250  442.10  525.90  935.1\n",
       "F      964.0  469.963382  221.931991  0.0  415.575  499.60  614.70  952.0\n",
       "G      648.0  474.965278  220.476586  0.0  404.850  503.55  630.85  868.2\n",
       "H      720.0  324.411389  219.280332  0.0    0.000  404.65  467.85  897.0"
      ]
     },
     "execution_count": 23,
     "metadata": {},
     "output_type": "execute_result"
    }
   ],
   "source": [
    "temp = df[['Q002','NU_NOTA_MT']].copy()\n",
    "temp.groupby('Q002')['NU_NOTA_MT'].describe()"
   ]
  },
  {
   "cell_type": "code",
   "execution_count": 24,
   "metadata": {},
   "outputs": [
    {
     "data": {
      "text/plain": [
       "3    4245\n",
       "4    3883\n",
       "1    3270\n",
       "5     964\n",
       "2     720\n",
       "6     648\n",
       "Name: Q002, dtype: int64"
      ]
     },
     "execution_count": 24,
     "metadata": {},
     "output_type": "execute_result"
    }
   ],
   "source": [
    "df.Q002 = df.Q002.replace('A', 1).replace('B',1).replace('H',2).replace('C',3).replace('D',3).replace('E',4).replace('F',5).replace('G',6)\n",
    "df.Q002.value_counts()\n"
   ]
  },
  {
   "cell_type": "code",
   "execution_count": 25,
   "metadata": {},
   "outputs": [
    {
     "data": {
      "text/plain": [
       "3    1436\n",
       "4    1302\n",
       "1    1083\n",
       "5     307\n",
       "2     240\n",
       "6     208\n",
       "Name: Q002, dtype: int64"
      ]
     },
     "execution_count": 25,
     "metadata": {},
     "output_type": "execute_result"
    }
   ],
   "source": [
    "df_test.Q002 = df_test.Q002.replace('A', 1).replace('B',1).replace('H',2).replace('C',3).replace('D',3).replace('E',4).replace('F',5).replace('G',6)\n",
    "df_test.Q002.value_counts()\n"
   ]
  },
  {
   "cell_type": "code",
   "execution_count": 26,
   "metadata": {
    "scrolled": false
   },
   "outputs": [
    {
     "data": {
      "text/html": [
       "<div>\n",
       "<style scoped>\n",
       "    .dataframe tbody tr th:only-of-type {\n",
       "        vertical-align: middle;\n",
       "    }\n",
       "\n",
       "    .dataframe tbody tr th {\n",
       "        vertical-align: top;\n",
       "    }\n",
       "\n",
       "    .dataframe thead th {\n",
       "        text-align: right;\n",
       "    }\n",
       "</style>\n",
       "<table border=\"1\" class=\"dataframe\">\n",
       "  <thead>\n",
       "    <tr style=\"text-align: right;\">\n",
       "      <th></th>\n",
       "      <th>count</th>\n",
       "      <th>mean</th>\n",
       "      <th>std</th>\n",
       "      <th>min</th>\n",
       "      <th>25%</th>\n",
       "      <th>50%</th>\n",
       "      <th>75%</th>\n",
       "      <th>max</th>\n",
       "    </tr>\n",
       "    <tr>\n",
       "      <th>Q006</th>\n",
       "      <th></th>\n",
       "      <th></th>\n",
       "      <th></th>\n",
       "      <th></th>\n",
       "      <th></th>\n",
       "      <th></th>\n",
       "      <th></th>\n",
       "      <th></th>\n",
       "    </tr>\n",
       "  </thead>\n",
       "  <tbody>\n",
       "    <tr>\n",
       "      <th>A</th>\n",
       "      <td>491.0</td>\n",
       "      <td>301.232587</td>\n",
       "      <td>220.822728</td>\n",
       "      <td>0.0</td>\n",
       "      <td>0.000</td>\n",
       "      <td>392.10</td>\n",
       "      <td>451.900</td>\n",
       "      <td>840.9</td>\n",
       "    </tr>\n",
       "    <tr>\n",
       "      <th>B</th>\n",
       "      <td>4264.0</td>\n",
       "      <td>332.438039</td>\n",
       "      <td>207.209400</td>\n",
       "      <td>0.0</td>\n",
       "      <td>0.000</td>\n",
       "      <td>407.20</td>\n",
       "      <td>468.500</td>\n",
       "      <td>800.2</td>\n",
       "    </tr>\n",
       "    <tr>\n",
       "      <th>C</th>\n",
       "      <td>3641.0</td>\n",
       "      <td>329.317715</td>\n",
       "      <td>226.158232</td>\n",
       "      <td>0.0</td>\n",
       "      <td>0.000</td>\n",
       "      <td>413.80</td>\n",
       "      <td>486.600</td>\n",
       "      <td>896.3</td>\n",
       "    </tr>\n",
       "    <tr>\n",
       "      <th>D</th>\n",
       "      <td>1636.0</td>\n",
       "      <td>344.026284</td>\n",
       "      <td>232.372639</td>\n",
       "      <td>0.0</td>\n",
       "      <td>0.000</td>\n",
       "      <td>426.00</td>\n",
       "      <td>506.400</td>\n",
       "      <td>895.5</td>\n",
       "    </tr>\n",
       "    <tr>\n",
       "      <th>E</th>\n",
       "      <td>1028.0</td>\n",
       "      <td>367.003502</td>\n",
       "      <td>231.437298</td>\n",
       "      <td>0.0</td>\n",
       "      <td>0.000</td>\n",
       "      <td>427.00</td>\n",
       "      <td>523.300</td>\n",
       "      <td>952.0</td>\n",
       "    </tr>\n",
       "    <tr>\n",
       "      <th>F</th>\n",
       "      <td>667.0</td>\n",
       "      <td>383.779910</td>\n",
       "      <td>239.669104</td>\n",
       "      <td>0.0</td>\n",
       "      <td>335.350</td>\n",
       "      <td>442.70</td>\n",
       "      <td>549.550</td>\n",
       "      <td>874.1</td>\n",
       "    </tr>\n",
       "    <tr>\n",
       "      <th>G</th>\n",
       "      <td>642.0</td>\n",
       "      <td>402.330530</td>\n",
       "      <td>237.088261</td>\n",
       "      <td>0.0</td>\n",
       "      <td>371.175</td>\n",
       "      <td>469.45</td>\n",
       "      <td>552.850</td>\n",
       "      <td>829.1</td>\n",
       "    </tr>\n",
       "    <tr>\n",
       "      <th>H</th>\n",
       "      <td>433.0</td>\n",
       "      <td>457.927483</td>\n",
       "      <td>224.677898</td>\n",
       "      <td>0.0</td>\n",
       "      <td>407.700</td>\n",
       "      <td>507.20</td>\n",
       "      <td>600.700</td>\n",
       "      <td>877.6</td>\n",
       "    </tr>\n",
       "    <tr>\n",
       "      <th>I</th>\n",
       "      <td>253.0</td>\n",
       "      <td>484.933597</td>\n",
       "      <td>218.121805</td>\n",
       "      <td>0.0</td>\n",
       "      <td>423.800</td>\n",
       "      <td>518.40</td>\n",
       "      <td>636.400</td>\n",
       "      <td>895.4</td>\n",
       "    </tr>\n",
       "    <tr>\n",
       "      <th>J</th>\n",
       "      <td>165.0</td>\n",
       "      <td>493.173333</td>\n",
       "      <td>223.696531</td>\n",
       "      <td>0.0</td>\n",
       "      <td>412.300</td>\n",
       "      <td>530.90</td>\n",
       "      <td>650.500</td>\n",
       "      <td>877.4</td>\n",
       "    </tr>\n",
       "    <tr>\n",
       "      <th>K</th>\n",
       "      <td>93.0</td>\n",
       "      <td>510.815054</td>\n",
       "      <td>242.675557</td>\n",
       "      <td>0.0</td>\n",
       "      <td>429.100</td>\n",
       "      <td>577.20</td>\n",
       "      <td>667.200</td>\n",
       "      <td>893.6</td>\n",
       "    </tr>\n",
       "    <tr>\n",
       "      <th>L</th>\n",
       "      <td>65.0</td>\n",
       "      <td>508.858462</td>\n",
       "      <td>234.098377</td>\n",
       "      <td>0.0</td>\n",
       "      <td>435.400</td>\n",
       "      <td>556.70</td>\n",
       "      <td>669.200</td>\n",
       "      <td>805.1</td>\n",
       "    </tr>\n",
       "    <tr>\n",
       "      <th>M</th>\n",
       "      <td>55.0</td>\n",
       "      <td>502.416364</td>\n",
       "      <td>265.212157</td>\n",
       "      <td>0.0</td>\n",
       "      <td>438.250</td>\n",
       "      <td>565.60</td>\n",
       "      <td>677.500</td>\n",
       "      <td>909.5</td>\n",
       "    </tr>\n",
       "    <tr>\n",
       "      <th>N</th>\n",
       "      <td>97.0</td>\n",
       "      <td>533.412371</td>\n",
       "      <td>227.397064</td>\n",
       "      <td>0.0</td>\n",
       "      <td>439.300</td>\n",
       "      <td>584.70</td>\n",
       "      <td>678.900</td>\n",
       "      <td>878.3</td>\n",
       "    </tr>\n",
       "    <tr>\n",
       "      <th>O</th>\n",
       "      <td>66.0</td>\n",
       "      <td>488.692424</td>\n",
       "      <td>265.847592</td>\n",
       "      <td>0.0</td>\n",
       "      <td>449.725</td>\n",
       "      <td>569.50</td>\n",
       "      <td>649.425</td>\n",
       "      <td>928.5</td>\n",
       "    </tr>\n",
       "    <tr>\n",
       "      <th>P</th>\n",
       "      <td>68.0</td>\n",
       "      <td>593.623529</td>\n",
       "      <td>228.555258</td>\n",
       "      <td>0.0</td>\n",
       "      <td>520.825</td>\n",
       "      <td>648.55</td>\n",
       "      <td>741.550</td>\n",
       "      <td>935.1</td>\n",
       "    </tr>\n",
       "    <tr>\n",
       "      <th>Q</th>\n",
       "      <td>66.0</td>\n",
       "      <td>536.071212</td>\n",
       "      <td>274.453012</td>\n",
       "      <td>0.0</td>\n",
       "      <td>495.075</td>\n",
       "      <td>631.05</td>\n",
       "      <td>699.950</td>\n",
       "      <td>878.2</td>\n",
       "    </tr>\n",
       "  </tbody>\n",
       "</table>\n",
       "</div>"
      ],
      "text/plain": [
       "       count        mean         std  min      25%     50%      75%    max\n",
       "Q006                                                                      \n",
       "A      491.0  301.232587  220.822728  0.0    0.000  392.10  451.900  840.9\n",
       "B     4264.0  332.438039  207.209400  0.0    0.000  407.20  468.500  800.2\n",
       "C     3641.0  329.317715  226.158232  0.0    0.000  413.80  486.600  896.3\n",
       "D     1636.0  344.026284  232.372639  0.0    0.000  426.00  506.400  895.5\n",
       "E     1028.0  367.003502  231.437298  0.0    0.000  427.00  523.300  952.0\n",
       "F      667.0  383.779910  239.669104  0.0  335.350  442.70  549.550  874.1\n",
       "G      642.0  402.330530  237.088261  0.0  371.175  469.45  552.850  829.1\n",
       "H      433.0  457.927483  224.677898  0.0  407.700  507.20  600.700  877.6\n",
       "I      253.0  484.933597  218.121805  0.0  423.800  518.40  636.400  895.4\n",
       "J      165.0  493.173333  223.696531  0.0  412.300  530.90  650.500  877.4\n",
       "K       93.0  510.815054  242.675557  0.0  429.100  577.20  667.200  893.6\n",
       "L       65.0  508.858462  234.098377  0.0  435.400  556.70  669.200  805.1\n",
       "M       55.0  502.416364  265.212157  0.0  438.250  565.60  677.500  909.5\n",
       "N       97.0  533.412371  227.397064  0.0  439.300  584.70  678.900  878.3\n",
       "O       66.0  488.692424  265.847592  0.0  449.725  569.50  649.425  928.5\n",
       "P       68.0  593.623529  228.555258  0.0  520.825  648.55  741.550  935.1\n",
       "Q       66.0  536.071212  274.453012  0.0  495.075  631.05  699.950  878.2"
      ]
     },
     "execution_count": 26,
     "metadata": {},
     "output_type": "execute_result"
    }
   ],
   "source": [
    "temp = df[['Q006','NU_NOTA_MT']].copy()\n",
    "temp.groupby('Q006')['NU_NOTA_MT'].describe()"
   ]
  },
  {
   "cell_type": "code",
   "execution_count": 27,
   "metadata": {},
   "outputs": [
    {
     "data": {
      "text/plain": [
       "2    5277\n",
       "1    4755\n",
       "3    1695\n",
       "4    1075\n",
       "5     418\n",
       "6     158\n",
       "7     152\n",
       "8     134\n",
       "9      66\n",
       "Name: Q006, dtype: int64"
      ]
     },
     "execution_count": 27,
     "metadata": {},
     "output_type": "execute_result"
    }
   ],
   "source": [
    "df.Q006 = df.Q006.replace(\n",
    "    ['A','B'], 1).replace(\n",
    "    ['C','D'], 2).replace(\n",
    "    ['E','F'], 3).replace(\n",
    "    ['G','H'], 4).replace(\n",
    "    ['I','J'], 5).replace(\n",
    "    ['K','L'], 6).replace(\n",
    "    ['M','N'], 7).replace(\n",
    "    ['O','P'], 8).replace('Q',9)\n",
    "df.Q006.value_counts()"
   ]
  },
  {
   "cell_type": "code",
   "execution_count": 28,
   "metadata": {},
   "outputs": [
    {
     "data": {
      "text/plain": [
       "2    1706\n",
       "1    1636\n",
       "3     566\n",
       "4     350\n",
       "5     161\n",
       "6      54\n",
       "7      42\n",
       "8      40\n",
       "9      21\n",
       "Name: Q006, dtype: int64"
      ]
     },
     "execution_count": 28,
     "metadata": {},
     "output_type": "execute_result"
    }
   ],
   "source": [
    "df_test.Q006 = df_test.Q006.replace(\n",
    "    ['A','B'], 1).replace(\n",
    "    ['C','D'], 2).replace(\n",
    "    ['E','F'], 3).replace(\n",
    "    ['G','H'], 4).replace(\n",
    "    ['I','J'], 5).replace(\n",
    "    ['K','L'], 6).replace(\n",
    "    ['M','N'], 7).replace(\n",
    "    ['O','P'], 8).replace('Q',9)\n",
    "df_test.Q006.value_counts()"
   ]
  },
  {
   "cell_type": "code",
   "execution_count": 29,
   "metadata": {},
   "outputs": [
    {
     "data": {
      "text/html": [
       "<div>\n",
       "<style scoped>\n",
       "    .dataframe tbody tr th:only-of-type {\n",
       "        vertical-align: middle;\n",
       "    }\n",
       "\n",
       "    .dataframe tbody tr th {\n",
       "        vertical-align: top;\n",
       "    }\n",
       "\n",
       "    .dataframe thead th {\n",
       "        text-align: right;\n",
       "    }\n",
       "</style>\n",
       "<table border=\"1\" class=\"dataframe\">\n",
       "  <thead>\n",
       "    <tr style=\"text-align: right;\">\n",
       "      <th></th>\n",
       "      <th>count</th>\n",
       "      <th>mean</th>\n",
       "      <th>std</th>\n",
       "      <th>min</th>\n",
       "      <th>25%</th>\n",
       "      <th>50%</th>\n",
       "      <th>75%</th>\n",
       "      <th>max</th>\n",
       "    </tr>\n",
       "    <tr>\n",
       "      <th>Q047</th>\n",
       "      <th></th>\n",
       "      <th></th>\n",
       "      <th></th>\n",
       "      <th></th>\n",
       "      <th></th>\n",
       "      <th></th>\n",
       "      <th></th>\n",
       "      <th></th>\n",
       "    </tr>\n",
       "  </thead>\n",
       "  <tbody>\n",
       "    <tr>\n",
       "      <th>A</th>\n",
       "      <td>11726.0</td>\n",
       "      <td>337.160856</td>\n",
       "      <td>222.106337</td>\n",
       "      <td>0.0</td>\n",
       "      <td>0.00</td>\n",
       "      <td>414.05</td>\n",
       "      <td>487.075</td>\n",
       "      <td>916.6</td>\n",
       "    </tr>\n",
       "    <tr>\n",
       "      <th>B</th>\n",
       "      <td>348.0</td>\n",
       "      <td>361.149138</td>\n",
       "      <td>247.004564</td>\n",
       "      <td>0.0</td>\n",
       "      <td>0.00</td>\n",
       "      <td>433.90</td>\n",
       "      <td>537.200</td>\n",
       "      <td>807.8</td>\n",
       "    </tr>\n",
       "    <tr>\n",
       "      <th>C</th>\n",
       "      <td>162.0</td>\n",
       "      <td>381.777160</td>\n",
       "      <td>229.652813</td>\n",
       "      <td>0.0</td>\n",
       "      <td>349.35</td>\n",
       "      <td>445.65</td>\n",
       "      <td>527.675</td>\n",
       "      <td>765.2</td>\n",
       "    </tr>\n",
       "    <tr>\n",
       "      <th>D</th>\n",
       "      <td>1173.0</td>\n",
       "      <td>508.501620</td>\n",
       "      <td>223.038511</td>\n",
       "      <td>0.0</td>\n",
       "      <td>434.50</td>\n",
       "      <td>552.20</td>\n",
       "      <td>660.300</td>\n",
       "      <td>952.0</td>\n",
       "    </tr>\n",
       "    <tr>\n",
       "      <th>E</th>\n",
       "      <td>321.0</td>\n",
       "      <td>472.283801</td>\n",
       "      <td>228.519142</td>\n",
       "      <td>0.0</td>\n",
       "      <td>415.50</td>\n",
       "      <td>503.00</td>\n",
       "      <td>612.100</td>\n",
       "      <td>908.8</td>\n",
       "    </tr>\n",
       "  </tbody>\n",
       "</table>\n",
       "</div>"
      ],
      "text/plain": [
       "        count        mean         std  min     25%     50%      75%    max\n",
       "Q047                                                                      \n",
       "A     11726.0  337.160856  222.106337  0.0    0.00  414.05  487.075  916.6\n",
       "B       348.0  361.149138  247.004564  0.0    0.00  433.90  537.200  807.8\n",
       "C       162.0  381.777160  229.652813  0.0  349.35  445.65  527.675  765.2\n",
       "D      1173.0  508.501620  223.038511  0.0  434.50  552.20  660.300  952.0\n",
       "E       321.0  472.283801  228.519142  0.0  415.50  503.00  612.100  908.8"
      ]
     },
     "execution_count": 29,
     "metadata": {},
     "output_type": "execute_result"
    }
   ],
   "source": [
    "temp = df[['Q047','NU_NOTA_MT']].copy()\n",
    "temp.groupby('Q047')['NU_NOTA_MT'].describe()"
   ]
  },
  {
   "cell_type": "code",
   "execution_count": 30,
   "metadata": {},
   "outputs": [
    {
     "data": {
      "text/plain": [
       "1    11726\n",
       "5     1173\n",
       "3      348\n",
       "4      321\n",
       "2      162\n",
       "Name: Q047, dtype: int64"
      ]
     },
     "execution_count": 30,
     "metadata": {},
     "output_type": "execute_result"
    }
   ],
   "source": [
    "df.Q047 = df.Q047.replace('A', 1).replace('B', 3).replace('C', 2).replace('D', 5).replace('E', 4)\n",
    "df.Q047.value_counts()"
   ]
  },
  {
   "cell_type": "code",
   "execution_count": 31,
   "metadata": {},
   "outputs": [
    {
     "data": {
      "text/plain": [
       "1    3913\n",
       "5     396\n",
       "3     106\n",
       "4      90\n",
       "2      71\n",
       "Name: Q047, dtype: int64"
      ]
     },
     "execution_count": 31,
     "metadata": {},
     "output_type": "execute_result"
    }
   ],
   "source": [
    "df_test.Q047 = df_test.Q047.replace('A', 1).replace('B', 3).replace('C', 2).replace('D', 5).replace('E', 4)\n",
    "df_test.Q047.value_counts()"
   ]
  },
  {
   "cell_type": "code",
   "execution_count": 32,
   "metadata": {
    "scrolled": true
   },
   "outputs": [
    {
     "data": {
      "text/html": [
       "<div>\n",
       "<style scoped>\n",
       "    .dataframe tbody tr th:only-of-type {\n",
       "        vertical-align: middle;\n",
       "    }\n",
       "\n",
       "    .dataframe tbody tr th {\n",
       "        vertical-align: top;\n",
       "    }\n",
       "\n",
       "    .dataframe thead th {\n",
       "        text-align: right;\n",
       "    }\n",
       "</style>\n",
       "<table border=\"1\" class=\"dataframe\">\n",
       "  <thead>\n",
       "    <tr style=\"text-align: right;\">\n",
       "      <th></th>\n",
       "      <th>count</th>\n",
       "      <th>mean</th>\n",
       "      <th>std</th>\n",
       "      <th>min</th>\n",
       "      <th>25%</th>\n",
       "      <th>50%</th>\n",
       "      <th>75%</th>\n",
       "      <th>max</th>\n",
       "    </tr>\n",
       "    <tr>\n",
       "      <th>TP_NACIONALIDADE</th>\n",
       "      <th></th>\n",
       "      <th></th>\n",
       "      <th></th>\n",
       "      <th></th>\n",
       "      <th></th>\n",
       "      <th></th>\n",
       "      <th></th>\n",
       "      <th></th>\n",
       "    </tr>\n",
       "  </thead>\n",
       "  <tbody>\n",
       "    <tr>\n",
       "      <th>0</th>\n",
       "      <td>13.0</td>\n",
       "      <td>344.607692</td>\n",
       "      <td>199.476972</td>\n",
       "      <td>0.0</td>\n",
       "      <td>389.700</td>\n",
       "      <td>431.80</td>\n",
       "      <td>466.600</td>\n",
       "      <td>521.7</td>\n",
       "    </tr>\n",
       "    <tr>\n",
       "      <th>1</th>\n",
       "      <td>13121.0</td>\n",
       "      <td>358.346277</td>\n",
       "      <td>228.816862</td>\n",
       "      <td>0.0</td>\n",
       "      <td>0.000</td>\n",
       "      <td>423.60</td>\n",
       "      <td>506.800</td>\n",
       "      <td>952.0</td>\n",
       "    </tr>\n",
       "    <tr>\n",
       "      <th>2</th>\n",
       "      <td>548.0</td>\n",
       "      <td>299.677007</td>\n",
       "      <td>222.455767</td>\n",
       "      <td>0.0</td>\n",
       "      <td>0.000</td>\n",
       "      <td>400.15</td>\n",
       "      <td>459.375</td>\n",
       "      <td>724.9</td>\n",
       "    </tr>\n",
       "    <tr>\n",
       "      <th>3</th>\n",
       "      <td>8.0</td>\n",
       "      <td>439.287500</td>\n",
       "      <td>319.478340</td>\n",
       "      <td>0.0</td>\n",
       "      <td>283.050</td>\n",
       "      <td>433.45</td>\n",
       "      <td>682.500</td>\n",
       "      <td>840.8</td>\n",
       "    </tr>\n",
       "    <tr>\n",
       "      <th>4</th>\n",
       "      <td>40.0</td>\n",
       "      <td>376.820000</td>\n",
       "      <td>221.364350</td>\n",
       "      <td>0.0</td>\n",
       "      <td>362.325</td>\n",
       "      <td>428.05</td>\n",
       "      <td>519.300</td>\n",
       "      <td>752.5</td>\n",
       "    </tr>\n",
       "  </tbody>\n",
       "</table>\n",
       "</div>"
      ],
      "text/plain": [
       "                    count        mean         std  min      25%     50%  \\\n",
       "TP_NACIONALIDADE                                                          \n",
       "0                    13.0  344.607692  199.476972  0.0  389.700  431.80   \n",
       "1                 13121.0  358.346277  228.816862  0.0    0.000  423.60   \n",
       "2                   548.0  299.677007  222.455767  0.0    0.000  400.15   \n",
       "3                     8.0  439.287500  319.478340  0.0  283.050  433.45   \n",
       "4                    40.0  376.820000  221.364350  0.0  362.325  428.05   \n",
       "\n",
       "                      75%    max  \n",
       "TP_NACIONALIDADE                  \n",
       "0                 466.600  521.7  \n",
       "1                 506.800  952.0  \n",
       "2                 459.375  724.9  \n",
       "3                 682.500  840.8  \n",
       "4                 519.300  752.5  "
      ]
     },
     "execution_count": 32,
     "metadata": {},
     "output_type": "execute_result"
    }
   ],
   "source": [
    "temp = df[['TP_NACIONALIDADE','NU_NOTA_MT']].copy()\n",
    "temp.groupby('TP_NACIONALIDADE')['NU_NOTA_MT'].describe()"
   ]
  },
  {
   "cell_type": "code",
   "execution_count": 33,
   "metadata": {
    "scrolled": true
   },
   "outputs": [
    {
     "data": {
      "text/plain": [
       "3    13121\n",
       "2      548\n",
       "4       40\n",
       "1       13\n",
       "5        8\n",
       "Name: TP_NACIONALIDADE, dtype: int64"
      ]
     },
     "execution_count": 33,
     "metadata": {},
     "output_type": "execute_result"
    }
   ],
   "source": [
    "df.TP_NACIONALIDADE = df.TP_NACIONALIDADE.map({0:1, 1:3, 2:2, 3:5,4:4})\n",
    "df.TP_NACIONALIDADE.value_counts()"
   ]
  },
  {
   "cell_type": "code",
   "execution_count": 34,
   "metadata": {
    "scrolled": true
   },
   "outputs": [
    {
     "data": {
      "text/plain": [
       "3    4324\n",
       "2     230\n",
       "4      14\n",
       "5       5\n",
       "1       3\n",
       "Name: TP_NACIONALIDADE, dtype: int64"
      ]
     },
     "execution_count": 34,
     "metadata": {},
     "output_type": "execute_result"
    }
   ],
   "source": [
    "df_test.TP_NACIONALIDADE = df_test.TP_NACIONALIDADE.map({0:1, 1:3, 2:2, 3:5,4:4})\n",
    "df_test.TP_NACIONALIDADE.value_counts()"
   ]
  },
  {
   "cell_type": "code",
   "execution_count": 35,
   "metadata": {
    "scrolled": true
   },
   "outputs": [
    {
     "data": {
      "text/html": [
       "<div>\n",
       "<style scoped>\n",
       "    .dataframe tbody tr th:only-of-type {\n",
       "        vertical-align: middle;\n",
       "    }\n",
       "\n",
       "    .dataframe tbody tr th {\n",
       "        vertical-align: top;\n",
       "    }\n",
       "\n",
       "    .dataframe thead th {\n",
       "        text-align: right;\n",
       "    }\n",
       "</style>\n",
       "<table border=\"1\" class=\"dataframe\">\n",
       "  <thead>\n",
       "    <tr style=\"text-align: right;\">\n",
       "      <th></th>\n",
       "      <th>count</th>\n",
       "      <th>mean</th>\n",
       "      <th>std</th>\n",
       "      <th>min</th>\n",
       "      <th>25%</th>\n",
       "      <th>50%</th>\n",
       "      <th>75%</th>\n",
       "      <th>max</th>\n",
       "    </tr>\n",
       "    <tr>\n",
       "      <th>TP_COR_RACA</th>\n",
       "      <th></th>\n",
       "      <th></th>\n",
       "      <th></th>\n",
       "      <th></th>\n",
       "      <th></th>\n",
       "      <th></th>\n",
       "      <th></th>\n",
       "      <th></th>\n",
       "    </tr>\n",
       "  </thead>\n",
       "  <tbody>\n",
       "    <tr>\n",
       "      <th>0</th>\n",
       "      <td>241.0</td>\n",
       "      <td>344.212448</td>\n",
       "      <td>246.020475</td>\n",
       "      <td>0.0</td>\n",
       "      <td>0.0</td>\n",
       "      <td>409.9</td>\n",
       "      <td>497.70</td>\n",
       "      <td>857.9</td>\n",
       "    </tr>\n",
       "    <tr>\n",
       "      <th>1</th>\n",
       "      <td>4589.0</td>\n",
       "      <td>383.315581</td>\n",
       "      <td>238.776759</td>\n",
       "      <td>0.0</td>\n",
       "      <td>341.9</td>\n",
       "      <td>442.5</td>\n",
       "      <td>542.30</td>\n",
       "      <td>952.0</td>\n",
       "    </tr>\n",
       "    <tr>\n",
       "      <th>2</th>\n",
       "      <td>1794.0</td>\n",
       "      <td>338.196042</td>\n",
       "      <td>221.555351</td>\n",
       "      <td>0.0</td>\n",
       "      <td>0.0</td>\n",
       "      <td>416.7</td>\n",
       "      <td>485.05</td>\n",
       "      <td>916.6</td>\n",
       "    </tr>\n",
       "    <tr>\n",
       "      <th>3</th>\n",
       "      <td>6693.0</td>\n",
       "      <td>343.581100</td>\n",
       "      <td>221.025909</td>\n",
       "      <td>0.0</td>\n",
       "      <td>0.0</td>\n",
       "      <td>415.3</td>\n",
       "      <td>487.70</td>\n",
       "      <td>909.5</td>\n",
       "    </tr>\n",
       "    <tr>\n",
       "      <th>4</th>\n",
       "      <td>312.0</td>\n",
       "      <td>358.315385</td>\n",
       "      <td>235.290804</td>\n",
       "      <td>0.0</td>\n",
       "      <td>0.0</td>\n",
       "      <td>425.5</td>\n",
       "      <td>502.45</td>\n",
       "      <td>928.5</td>\n",
       "    </tr>\n",
       "    <tr>\n",
       "      <th>5</th>\n",
       "      <td>101.0</td>\n",
       "      <td>287.670297</td>\n",
       "      <td>227.877316</td>\n",
       "      <td>0.0</td>\n",
       "      <td>0.0</td>\n",
       "      <td>396.4</td>\n",
       "      <td>453.10</td>\n",
       "      <td>712.6</td>\n",
       "    </tr>\n",
       "  </tbody>\n",
       "</table>\n",
       "</div>"
      ],
      "text/plain": [
       "              count        mean         std  min    25%    50%     75%    max\n",
       "TP_COR_RACA                                                                  \n",
       "0             241.0  344.212448  246.020475  0.0    0.0  409.9  497.70  857.9\n",
       "1            4589.0  383.315581  238.776759  0.0  341.9  442.5  542.30  952.0\n",
       "2            1794.0  338.196042  221.555351  0.0    0.0  416.7  485.05  916.6\n",
       "3            6693.0  343.581100  221.025909  0.0    0.0  415.3  487.70  909.5\n",
       "4             312.0  358.315385  235.290804  0.0    0.0  425.5  502.45  928.5\n",
       "5             101.0  287.670297  227.877316  0.0    0.0  396.4  453.10  712.6"
      ]
     },
     "execution_count": 35,
     "metadata": {},
     "output_type": "execute_result"
    }
   ],
   "source": [
    "temp = df[['TP_COR_RACA','NU_NOTA_MT']].copy()\n",
    "temp.groupby('TP_COR_RACA')['NU_NOTA_MT'].describe()"
   ]
  },
  {
   "cell_type": "code",
   "execution_count": 36,
   "metadata": {},
   "outputs": [
    {
     "data": {
      "text/plain": [
       "2    8487\n",
       "4    4589\n",
       "3     553\n",
       "1     101\n",
       "Name: TP_COR_RACA, dtype: int64"
      ]
     },
     "execution_count": 36,
     "metadata": {},
     "output_type": "execute_result"
    }
   ],
   "source": [
    "df.TP_COR_RACA = df.TP_COR_RACA.map({5:1, 2:2, 3:2,  0:3, 4:3, 1:4})\n",
    "df.TP_COR_RACA.value_counts()"
   ]
  },
  {
   "cell_type": "code",
   "execution_count": 37,
   "metadata": {},
   "outputs": [
    {
     "data": {
      "text/plain": [
       "2    2791\n",
       "4    1536\n",
       "3     215\n",
       "1      34\n",
       "Name: TP_COR_RACA, dtype: int64"
      ]
     },
     "execution_count": 37,
     "metadata": {},
     "output_type": "execute_result"
    }
   ],
   "source": [
    "df_test.TP_COR_RACA = df_test.TP_COR_RACA.map({5:1, 2:2, 3:2,  0:3, 4:3, 1:4})\n",
    "df_test.TP_COR_RACA.value_counts()"
   ]
  },
  {
   "cell_type": "markdown",
   "metadata": {},
   "source": [
    "Após algumas transformações vamos analizar outras variáveis categóricas sem ordem. Com o objetivo de diminuir as categorias vamos analizá-las em relação à média de NU_NOTA_MT para cada categoria. Vamos utilizar uma técnica: ***bucket category***."
   ]
  },
  {
   "cell_type": "code",
   "execution_count": 38,
   "metadata": {},
   "outputs": [],
   "source": [
    "def bucket(feature, data):\n",
    "    bucket = data[['NU_NOTA_MT', feature]].groupby(\n",
    "        feature\n",
    "    ).mean().sort_values(by='NU_NOTA_MT',ascending=False)\n",
    "    return bucket"
   ]
  },
  {
   "cell_type": "code",
   "execution_count": 39,
   "metadata": {},
   "outputs": [
    {
     "data": {
      "text/html": [
       "<div>\n",
       "<style scoped>\n",
       "    .dataframe tbody tr th:only-of-type {\n",
       "        vertical-align: middle;\n",
       "    }\n",
       "\n",
       "    .dataframe tbody tr th {\n",
       "        vertical-align: top;\n",
       "    }\n",
       "\n",
       "    .dataframe thead th {\n",
       "        text-align: right;\n",
       "    }\n",
       "</style>\n",
       "<table border=\"1\" class=\"dataframe\">\n",
       "  <thead>\n",
       "    <tr style=\"text-align: right;\">\n",
       "      <th></th>\n",
       "      <th>NU_NOTA_MT</th>\n",
       "    </tr>\n",
       "    <tr>\n",
       "      <th>Q026</th>\n",
       "      <th></th>\n",
       "    </tr>\n",
       "  </thead>\n",
       "  <tbody>\n",
       "    <tr>\n",
       "      <th>A</th>\n",
       "      <td>403.291365</td>\n",
       "    </tr>\n",
       "    <tr>\n",
       "      <th>C</th>\n",
       "      <td>305.169228</td>\n",
       "    </tr>\n",
       "    <tr>\n",
       "      <th>B</th>\n",
       "      <td>302.669023</td>\n",
       "    </tr>\n",
       "  </tbody>\n",
       "</table>\n",
       "</div>"
      ],
      "text/plain": [
       "      NU_NOTA_MT\n",
       "Q026            \n",
       "A     403.291365\n",
       "C     305.169228\n",
       "B     302.669023"
      ]
     },
     "execution_count": 39,
     "metadata": {},
     "output_type": "execute_result"
    }
   ],
   "source": [
    "bucket('Q026', df)"
   ]
  },
  {
   "cell_type": "code",
   "execution_count": 40,
   "metadata": {},
   "outputs": [],
   "source": [
    "df['Q026'] = df.Q026.replace('A', 2).replace('B', 1).replace('C',1)\n",
    "df_test['Q026'] = df_test.Q026.replace('A', 2).replace('B', 1).replace('C',1)"
   ]
  },
  {
   "cell_type": "code",
   "execution_count": 41,
   "metadata": {
    "scrolled": true
   },
   "outputs": [
    {
     "data": {
      "text/html": [
       "<div>\n",
       "<style scoped>\n",
       "    .dataframe tbody tr th:only-of-type {\n",
       "        vertical-align: middle;\n",
       "    }\n",
       "\n",
       "    .dataframe tbody tr th {\n",
       "        vertical-align: top;\n",
       "    }\n",
       "\n",
       "    .dataframe thead th {\n",
       "        text-align: right;\n",
       "    }\n",
       "</style>\n",
       "<table border=\"1\" class=\"dataframe\">\n",
       "  <thead>\n",
       "    <tr style=\"text-align: right;\">\n",
       "      <th></th>\n",
       "      <th>NU_NOTA_MT</th>\n",
       "    </tr>\n",
       "    <tr>\n",
       "      <th>CO_PROVA_CH</th>\n",
       "      <th></th>\n",
       "    </tr>\n",
       "  </thead>\n",
       "  <tbody>\n",
       "    <tr>\n",
       "      <th>f94e97c2a5689edd5369740fde9a927e23a9465f</th>\n",
       "      <td>499.454237</td>\n",
       "    </tr>\n",
       "    <tr>\n",
       "      <th>f48d390ab6a2428e659c37fb8a9d00afde621889</th>\n",
       "      <td>474.882478</td>\n",
       "    </tr>\n",
       "    <tr>\n",
       "      <th>0fb4772fc6ee9b951ade2fbe6699cc37985c422e</th>\n",
       "      <td>471.526154</td>\n",
       "    </tr>\n",
       "    <tr>\n",
       "      <th>9cd70f1b922e02bd33453b3f607f5a644fb9b1b8</th>\n",
       "      <td>471.235185</td>\n",
       "    </tr>\n",
       "    <tr>\n",
       "      <th>909237ab0d84688e10c0470e2997348aff585273</th>\n",
       "      <td>470.031301</td>\n",
       "    </tr>\n",
       "    <tr>\n",
       "      <th>942ab3dc020af4cf53740b6b07e9dd7060b24164</th>\n",
       "      <td>468.843810</td>\n",
       "    </tr>\n",
       "    <tr>\n",
       "      <th>c95541bf218d7ff70572ca4bcb421edeff05c6d5</th>\n",
       "      <td>467.850000</td>\n",
       "    </tr>\n",
       "    <tr>\n",
       "      <th>6c3fec2ef505409a9e7c3d2e8634fa2aced4ee93</th>\n",
       "      <td>452.771212</td>\n",
       "    </tr>\n",
       "    <tr>\n",
       "      <th>d5f6d17523d2cce3e4dc0a7f0582a85cec1c15ee</th>\n",
       "      <td>375.100000</td>\n",
       "    </tr>\n",
       "    <tr>\n",
       "      <th>2d22ac1d42e6187f09ee6c578df187a760123ccf</th>\n",
       "      <td>4.676365</td>\n",
       "    </tr>\n",
       "  </tbody>\n",
       "</table>\n",
       "</div>"
      ],
      "text/plain": [
       "                                          NU_NOTA_MT\n",
       "CO_PROVA_CH                                         \n",
       "f94e97c2a5689edd5369740fde9a927e23a9465f  499.454237\n",
       "f48d390ab6a2428e659c37fb8a9d00afde621889  474.882478\n",
       "0fb4772fc6ee9b951ade2fbe6699cc37985c422e  471.526154\n",
       "9cd70f1b922e02bd33453b3f607f5a644fb9b1b8  471.235185\n",
       "909237ab0d84688e10c0470e2997348aff585273  470.031301\n",
       "942ab3dc020af4cf53740b6b07e9dd7060b24164  468.843810\n",
       "c95541bf218d7ff70572ca4bcb421edeff05c6d5  467.850000\n",
       "6c3fec2ef505409a9e7c3d2e8634fa2aced4ee93  452.771212\n",
       "d5f6d17523d2cce3e4dc0a7f0582a85cec1c15ee  375.100000\n",
       "2d22ac1d42e6187f09ee6c578df187a760123ccf    4.676365"
      ]
     },
     "execution_count": 41,
     "metadata": {},
     "output_type": "execute_result"
    }
   ],
   "source": [
    "bucket('CO_PROVA_CH',df)"
   ]
  },
  {
   "cell_type": "code",
   "execution_count": 42,
   "metadata": {},
   "outputs": [],
   "source": [
    "df['CO_PROVA_CH'] = df.CO_PROVA_CH.replace(\n",
    "    'f94e97c2a5689edd5369740fde9a927e23a9465f', 8).replace(\n",
    "    'f48d390ab6a2428e659c37fb8a9d00afde621889', 7).replace(\n",
    "    '0fb4772fc6ee9b951ade2fbe6699cc37985c422e', 6).replace(\n",
    "    '9cd70f1b922e02bd33453b3f607f5a644fb9b1b8', 6).replace(\n",
    "    '909237ab0d84688e10c0470e2997348aff585273', 5).replace(\n",
    "    '942ab3dc020af4cf53740b6b07e9dd7060b24164', 4).replace(\n",
    "    'c95541bf218d7ff70572ca4bcb421edeff05c6d5', 4).replace(\n",
    "    '6c3fec2ef505409a9e7c3d2e8634fa2aced4ee93', 3).replace(\n",
    "    'd5f6d17523d2cce3e4dc0a7f0582a85cec1c15ee', 2).replace(\n",
    "    '2d22ac1d42e6187f09ee6c578df187a760123ccf', 1)"
   ]
  },
  {
   "cell_type": "code",
   "execution_count": 43,
   "metadata": {},
   "outputs": [],
   "source": [
    "df_test['CO_PROVA_CH'] = df_test.CO_PROVA_CH.replace(\n",
    "    'f94e97c2a5689edd5369740fde9a927e23a9465f', 8).replace(\n",
    "    'f48d390ab6a2428e659c37fb8a9d00afde621889', 7).replace(\n",
    "    '0fb4772fc6ee9b951ade2fbe6699cc37985c422e', 6).replace(\n",
    "    '9cd70f1b922e02bd33453b3f607f5a644fb9b1b8', 6).replace(\n",
    "    '909237ab0d84688e10c0470e2997348aff585273', 5).replace(\n",
    "    '942ab3dc020af4cf53740b6b07e9dd7060b24164', 4).replace(\n",
    "    'c95541bf218d7ff70572ca4bcb421edeff05c6d5', 4).replace(\n",
    "    '6c3fec2ef505409a9e7c3d2e8634fa2aced4ee93', 3).replace(\n",
    "    'd5f6d17523d2cce3e4dc0a7f0582a85cec1c15ee', 2).replace(\n",
    "    '2d22ac1d42e6187f09ee6c578df187a760123ccf', 1)"
   ]
  },
  {
   "cell_type": "code",
   "execution_count": 44,
   "metadata": {
    "scrolled": true
   },
   "outputs": [
    {
     "data": {
      "text/html": [
       "<div>\n",
       "<style scoped>\n",
       "    .dataframe tbody tr th:only-of-type {\n",
       "        vertical-align: middle;\n",
       "    }\n",
       "\n",
       "    .dataframe tbody tr th {\n",
       "        vertical-align: top;\n",
       "    }\n",
       "\n",
       "    .dataframe thead th {\n",
       "        text-align: right;\n",
       "    }\n",
       "</style>\n",
       "<table border=\"1\" class=\"dataframe\">\n",
       "  <thead>\n",
       "    <tr style=\"text-align: right;\">\n",
       "      <th></th>\n",
       "      <th>NU_NOTA_MT</th>\n",
       "    </tr>\n",
       "    <tr>\n",
       "      <th>CO_PROVA_CN</th>\n",
       "      <th></th>\n",
       "    </tr>\n",
       "  </thead>\n",
       "  <tbody>\n",
       "    <tr>\n",
       "      <th>03b1fba5c1ebbc47988cd303b08982cfb2aa9cf2</th>\n",
       "      <td>499.454237</td>\n",
       "    </tr>\n",
       "    <tr>\n",
       "      <th>c8328ebc6f3238e06076c481bc1b82b8301e7a3f</th>\n",
       "      <td>474.882478</td>\n",
       "    </tr>\n",
       "    <tr>\n",
       "      <th>c87a85497686b3e7b3765f84a2ca95256f0f66aa</th>\n",
       "      <td>471.526154</td>\n",
       "    </tr>\n",
       "    <tr>\n",
       "      <th>16f84b7b3d2aeaff7d2f01297e6b3d0e25c77bb2</th>\n",
       "      <td>471.235185</td>\n",
       "    </tr>\n",
       "    <tr>\n",
       "      <th>b9b06ce8c319a3df2158ea3d0aef0f7d3eecaed7</th>\n",
       "      <td>470.031301</td>\n",
       "    </tr>\n",
       "    <tr>\n",
       "      <th>66b1dad288e13be0992bae01e81f71eca1c6e8a6</th>\n",
       "      <td>468.843810</td>\n",
       "    </tr>\n",
       "    <tr>\n",
       "      <th>69ed2ddcb151cfebe3d2ae372055335ac7c8c144</th>\n",
       "      <td>467.850000</td>\n",
       "    </tr>\n",
       "    <tr>\n",
       "      <th>1bcdece8fb1b952552b319e4e5512bbcf540e338</th>\n",
       "      <td>452.771212</td>\n",
       "    </tr>\n",
       "    <tr>\n",
       "      <th>a27a1efea095c8a973496f0b57a24ac6775d95b0</th>\n",
       "      <td>375.100000</td>\n",
       "    </tr>\n",
       "    <tr>\n",
       "      <th>2d22ac1d42e6187f09ee6c578df187a760123ccf</th>\n",
       "      <td>4.676365</td>\n",
       "    </tr>\n",
       "  </tbody>\n",
       "</table>\n",
       "</div>"
      ],
      "text/plain": [
       "                                          NU_NOTA_MT\n",
       "CO_PROVA_CN                                         \n",
       "03b1fba5c1ebbc47988cd303b08982cfb2aa9cf2  499.454237\n",
       "c8328ebc6f3238e06076c481bc1b82b8301e7a3f  474.882478\n",
       "c87a85497686b3e7b3765f84a2ca95256f0f66aa  471.526154\n",
       "16f84b7b3d2aeaff7d2f01297e6b3d0e25c77bb2  471.235185\n",
       "b9b06ce8c319a3df2158ea3d0aef0f7d3eecaed7  470.031301\n",
       "66b1dad288e13be0992bae01e81f71eca1c6e8a6  468.843810\n",
       "69ed2ddcb151cfebe3d2ae372055335ac7c8c144  467.850000\n",
       "1bcdece8fb1b952552b319e4e5512bbcf540e338  452.771212\n",
       "a27a1efea095c8a973496f0b57a24ac6775d95b0  375.100000\n",
       "2d22ac1d42e6187f09ee6c578df187a760123ccf    4.676365"
      ]
     },
     "execution_count": 44,
     "metadata": {},
     "output_type": "execute_result"
    }
   ],
   "source": [
    "bucket('CO_PROVA_CN',df)"
   ]
  },
  {
   "cell_type": "code",
   "execution_count": 45,
   "metadata": {},
   "outputs": [],
   "source": [
    "df['CO_PROVA_CN'] = df.CO_PROVA_CN.replace(\n",
    "    '03b1fba5c1ebbc47988cd303b08982cfb2aa9cf2', 8).replace(\n",
    "    'c8328ebc6f3238e06076c481bc1b82b8301e7a3f', 7).replace(\n",
    "    'c87a85497686b3e7b3765f84a2ca95256f0f66aa', 6).replace(\n",
    "    '16f84b7b3d2aeaff7d2f01297e6b3d0e25c77bb2', 6).replace(\n",
    "    'b9b06ce8c319a3df2158ea3d0aef0f7d3eecaed7', 5).replace(\n",
    "    '66b1dad288e13be0992bae01e81f71eca1c6e8a6', 4).replace(\n",
    "    '69ed2ddcb151cfebe3d2ae372055335ac7c8c144', 4).replace(\n",
    "    '1bcdece8fb1b952552b319e4e5512bbcf540e338', 3).replace(\n",
    "    'a27a1efea095c8a973496f0b57a24ac6775d95b0', 2).replace(\n",
    "    '2d22ac1d42e6187f09ee6c578df187a760123ccf', 1)"
   ]
  },
  {
   "cell_type": "code",
   "execution_count": 46,
   "metadata": {},
   "outputs": [],
   "source": [
    "df_test['CO_PROVA_CN'] = df_test.CO_PROVA_CN.replace(\n",
    "    '03b1fba5c1ebbc47988cd303b08982cfb2aa9cf2', 8).replace(\n",
    "    'c8328ebc6f3238e06076c481bc1b82b8301e7a3f', 7).replace(\n",
    "    'c87a85497686b3e7b3765f84a2ca95256f0f66aa', 6).replace(\n",
    "    '16f84b7b3d2aeaff7d2f01297e6b3d0e25c77bb2', 6).replace(\n",
    "    'b9b06ce8c319a3df2158ea3d0aef0f7d3eecaed7', 5).replace(\n",
    "    '66b1dad288e13be0992bae01e81f71eca1c6e8a6', 4).replace(\n",
    "    '69ed2ddcb151cfebe3d2ae372055335ac7c8c144', 4).replace(\n",
    "    '1bcdece8fb1b952552b319e4e5512bbcf540e338', 3).replace(\n",
    "    'a27a1efea095c8a973496f0b57a24ac6775d95b0', 2).replace(\n",
    "    '2d22ac1d42e6187f09ee6c578df187a760123ccf', 1)"
   ]
  },
  {
   "cell_type": "code",
   "execution_count": 47,
   "metadata": {
    "scrolled": true
   },
   "outputs": [
    {
     "data": {
      "text/html": [
       "<div>\n",
       "<style scoped>\n",
       "    .dataframe tbody tr th:only-of-type {\n",
       "        vertical-align: middle;\n",
       "    }\n",
       "\n",
       "    .dataframe tbody tr th {\n",
       "        vertical-align: top;\n",
       "    }\n",
       "\n",
       "    .dataframe thead th {\n",
       "        text-align: right;\n",
       "    }\n",
       "</style>\n",
       "<table border=\"1\" class=\"dataframe\">\n",
       "  <thead>\n",
       "    <tr style=\"text-align: right;\">\n",
       "      <th></th>\n",
       "      <th>NU_NOTA_MT</th>\n",
       "    </tr>\n",
       "    <tr>\n",
       "      <th>CO_PROVA_MT</th>\n",
       "      <th></th>\n",
       "    </tr>\n",
       "  </thead>\n",
       "  <tbody>\n",
       "    <tr>\n",
       "      <th>0e0082361eaceb6418bb17305a2b7912650b4783</th>\n",
       "      <td>494.676119</td>\n",
       "    </tr>\n",
       "    <tr>\n",
       "      <th>81d0ee00ef42a7c23eb04496458c03d4c5b9c31a</th>\n",
       "      <td>491.035575</td>\n",
       "    </tr>\n",
       "    <tr>\n",
       "      <th>73c5c86eef8f70263e4c5708d153cca123f93378</th>\n",
       "      <td>485.358730</td>\n",
       "    </tr>\n",
       "    <tr>\n",
       "      <th>767a32545304ed293242d528f54d4edb1369f910</th>\n",
       "      <td>481.320601</td>\n",
       "    </tr>\n",
       "    <tr>\n",
       "      <th>97caab1e1533dba217deb7ef41490f52e459ab01</th>\n",
       "      <td>480.557179</td>\n",
       "    </tr>\n",
       "    <tr>\n",
       "      <th>577f8968d95046f5eb5cc158608e12fa9ba34c85</th>\n",
       "      <td>477.770533</td>\n",
       "    </tr>\n",
       "    <tr>\n",
       "      <th>6d6961694e839531aec2d35bbd8552b55394a0d7</th>\n",
       "      <td>477.229630</td>\n",
       "    </tr>\n",
       "    <tr>\n",
       "      <th>0ec1c8ac02d2747b6e9a99933fbf96127dd6e89e</th>\n",
       "      <td>457.146875</td>\n",
       "    </tr>\n",
       "    <tr>\n",
       "      <th>2d22ac1d42e6187f09ee6c578df187a760123ccf</th>\n",
       "      <td>0.000000</td>\n",
       "    </tr>\n",
       "  </tbody>\n",
       "</table>\n",
       "</div>"
      ],
      "text/plain": [
       "                                          NU_NOTA_MT\n",
       "CO_PROVA_MT                                         \n",
       "0e0082361eaceb6418bb17305a2b7912650b4783  494.676119\n",
       "81d0ee00ef42a7c23eb04496458c03d4c5b9c31a  491.035575\n",
       "73c5c86eef8f70263e4c5708d153cca123f93378  485.358730\n",
       "767a32545304ed293242d528f54d4edb1369f910  481.320601\n",
       "97caab1e1533dba217deb7ef41490f52e459ab01  480.557179\n",
       "577f8968d95046f5eb5cc158608e12fa9ba34c85  477.770533\n",
       "6d6961694e839531aec2d35bbd8552b55394a0d7  477.229630\n",
       "0ec1c8ac02d2747b6e9a99933fbf96127dd6e89e  457.146875\n",
       "2d22ac1d42e6187f09ee6c578df187a760123ccf    0.000000"
      ]
     },
     "execution_count": 47,
     "metadata": {},
     "output_type": "execute_result"
    }
   ],
   "source": [
    "bucket('CO_PROVA_MT',df)"
   ]
  },
  {
   "cell_type": "code",
   "execution_count": 48,
   "metadata": {},
   "outputs": [],
   "source": [
    "df['CO_PROVA_MT'] = df.CO_PROVA_MT.replace(\n",
    "    '0e0082361eaceb6418bb17305a2b7912650b4783', 8).replace(\n",
    "    '81d0ee00ef42a7c23eb04496458c03d4c5b9c31a', 7).replace(\n",
    "    '73c5c86eef8f70263e4c5708d153cca123f93378', 6).replace(\n",
    "    '767a32545304ed293242d528f54d4edb1369f910', 5).replace(\n",
    "    '97caab1e1533dba217deb7ef41490f52e459ab01', 4).replace(\n",
    "    '577f8968d95046f5eb5cc158608e12fa9ba34c85', 3).replace(\n",
    "    '6d6961694e839531aec2d35bbd8552b55394a0d7', 3).replace(\n",
    "    '0ec1c8ac02d2747b6e9a99933fbf96127dd6e89e', 2).replace(\n",
    "    '2d22ac1d42e6187f09ee6c578df187a760123ccf', 1)"
   ]
  },
  {
   "cell_type": "code",
   "execution_count": 49,
   "metadata": {},
   "outputs": [],
   "source": [
    "df_test['CO_PROVA_MT'] = df_test.CO_PROVA_MT.replace(\n",
    "    '0e0082361eaceb6418bb17305a2b7912650b4783', 8).replace(\n",
    "    '81d0ee00ef42a7c23eb04496458c03d4c5b9c31a', 7).replace(\n",
    "    '73c5c86eef8f70263e4c5708d153cca123f93378', 6).replace(\n",
    "    '767a32545304ed293242d528f54d4edb1369f910', 5).replace(\n",
    "    '97caab1e1533dba217deb7ef41490f52e459ab01', 4).replace(\n",
    "    '577f8968d95046f5eb5cc158608e12fa9ba34c85', 3).replace(\n",
    "    '6d6961694e839531aec2d35bbd8552b55394a0d7', 3).replace(\n",
    "    '0ec1c8ac02d2747b6e9a99933fbf96127dd6e89e', 2).replace(\n",
    "    '2d22ac1d42e6187f09ee6c578df187a760123ccf', 1)"
   ]
  },
  {
   "cell_type": "code",
   "execution_count": 50,
   "metadata": {
    "scrolled": true
   },
   "outputs": [
    {
     "data": {
      "text/html": [
       "<div>\n",
       "<style scoped>\n",
       "    .dataframe tbody tr th:only-of-type {\n",
       "        vertical-align: middle;\n",
       "    }\n",
       "\n",
       "    .dataframe tbody tr th {\n",
       "        vertical-align: top;\n",
       "    }\n",
       "\n",
       "    .dataframe thead th {\n",
       "        text-align: right;\n",
       "    }\n",
       "</style>\n",
       "<table border=\"1\" class=\"dataframe\">\n",
       "  <thead>\n",
       "    <tr style=\"text-align: right;\">\n",
       "      <th></th>\n",
       "      <th>NU_NOTA_MT</th>\n",
       "    </tr>\n",
       "    <tr>\n",
       "      <th>CO_PROVA_LC</th>\n",
       "      <th></th>\n",
       "    </tr>\n",
       "  </thead>\n",
       "  <tbody>\n",
       "    <tr>\n",
       "      <th>fa86b01f07636b15adfd66b688c79934730721a6</th>\n",
       "      <td>494.676119</td>\n",
       "    </tr>\n",
       "    <tr>\n",
       "      <th>01abbb7f1a90505385f44eec9905f82ca2a42cfd</th>\n",
       "      <td>491.035575</td>\n",
       "    </tr>\n",
       "    <tr>\n",
       "      <th>481058938110a64a272266e3892102b8ef0ca96f</th>\n",
       "      <td>485.358730</td>\n",
       "    </tr>\n",
       "    <tr>\n",
       "      <th>5aebe5cad7fabc1545ac7fba07a4e6177f98483c</th>\n",
       "      <td>481.320601</td>\n",
       "    </tr>\n",
       "    <tr>\n",
       "      <th>01af53cd161a420fff1767129c10de560cc264dd</th>\n",
       "      <td>480.557179</td>\n",
       "    </tr>\n",
       "    <tr>\n",
       "      <th>72f80e4b3150c627c7ffc93cfe0fa13a9989b610</th>\n",
       "      <td>477.770533</td>\n",
       "    </tr>\n",
       "    <tr>\n",
       "      <th>44b09b311799bd684b3d02463bfa99e472c6adb3</th>\n",
       "      <td>477.229630</td>\n",
       "    </tr>\n",
       "    <tr>\n",
       "      <th>9cbf6bf31d9d89a64ce2737ece4834fde4a95029</th>\n",
       "      <td>457.146875</td>\n",
       "    </tr>\n",
       "    <tr>\n",
       "      <th>2d22ac1d42e6187f09ee6c578df187a760123ccf</th>\n",
       "      <td>0.000000</td>\n",
       "    </tr>\n",
       "  </tbody>\n",
       "</table>\n",
       "</div>"
      ],
      "text/plain": [
       "                                          NU_NOTA_MT\n",
       "CO_PROVA_LC                                         \n",
       "fa86b01f07636b15adfd66b688c79934730721a6  494.676119\n",
       "01abbb7f1a90505385f44eec9905f82ca2a42cfd  491.035575\n",
       "481058938110a64a272266e3892102b8ef0ca96f  485.358730\n",
       "5aebe5cad7fabc1545ac7fba07a4e6177f98483c  481.320601\n",
       "01af53cd161a420fff1767129c10de560cc264dd  480.557179\n",
       "72f80e4b3150c627c7ffc93cfe0fa13a9989b610  477.770533\n",
       "44b09b311799bd684b3d02463bfa99e472c6adb3  477.229630\n",
       "9cbf6bf31d9d89a64ce2737ece4834fde4a95029  457.146875\n",
       "2d22ac1d42e6187f09ee6c578df187a760123ccf    0.000000"
      ]
     },
     "execution_count": 50,
     "metadata": {},
     "output_type": "execute_result"
    }
   ],
   "source": [
    "bucket('CO_PROVA_LC',df)"
   ]
  },
  {
   "cell_type": "code",
   "execution_count": 51,
   "metadata": {},
   "outputs": [],
   "source": [
    "df['CO_PROVA_LC'] = df.CO_PROVA_LC.replace(\n",
    "    'fa86b01f07636b15adfd66b688c79934730721a6', 8).replace(\n",
    "    '01abbb7f1a90505385f44eec9905f82ca2a42cfd', 7).replace(\n",
    "    '481058938110a64a272266e3892102b8ef0ca96f', 6).replace(\n",
    "    '5aebe5cad7fabc1545ac7fba07a4e6177f98483c', 5).replace(\n",
    "    '01af53cd161a420fff1767129c10de560cc264dd', 4).replace(\n",
    "    '72f80e4b3150c627c7ffc93cfe0fa13a9989b610', 3).replace(\n",
    "    '44b09b311799bd684b3d02463bfa99e472c6adb3', 3).replace(\n",
    "    '9cbf6bf31d9d89a64ce2737ece4834fde4a95029', 2).replace(\n",
    "    '2d22ac1d42e6187f09ee6c578df187a760123ccf', 1)"
   ]
  },
  {
   "cell_type": "code",
   "execution_count": 52,
   "metadata": {},
   "outputs": [],
   "source": [
    "df_test['CO_PROVA_LC'] = df_test.CO_PROVA_LC.replace(\n",
    "    'fa86b01f07636b15adfd66b688c79934730721a6', 8).replace(\n",
    "    '01abbb7f1a90505385f44eec9905f82ca2a42cfd', 7).replace(\n",
    "    '481058938110a64a272266e3892102b8ef0ca96f', 6).replace(\n",
    "    '5aebe5cad7fabc1545ac7fba07a4e6177f98483c', 5).replace(\n",
    "    '01af53cd161a420fff1767129c10de560cc264dd', 4).replace(\n",
    "    '72f80e4b3150c627c7ffc93cfe0fa13a9989b610', 3).replace(\n",
    "    '44b09b311799bd684b3d02463bfa99e472c6adb3', 3).replace(\n",
    "    '9cbf6bf31d9d89a64ce2737ece4834fde4a95029', 2).replace(\n",
    "    '2d22ac1d42e6187f09ee6c578df187a760123ccf', 1)"
   ]
  },
  {
   "cell_type": "code",
   "execution_count": 53,
   "metadata": {},
   "outputs": [
    {
     "data": {
      "text/html": [
       "<div>\n",
       "<style scoped>\n",
       "    .dataframe tbody tr th:only-of-type {\n",
       "        vertical-align: middle;\n",
       "    }\n",
       "\n",
       "    .dataframe tbody tr th {\n",
       "        vertical-align: top;\n",
       "    }\n",
       "\n",
       "    .dataframe thead th {\n",
       "        text-align: right;\n",
       "    }\n",
       "</style>\n",
       "<table border=\"1\" class=\"dataframe\">\n",
       "  <thead>\n",
       "    <tr style=\"text-align: right;\">\n",
       "      <th></th>\n",
       "      <th>NU_NOTA_MT</th>\n",
       "    </tr>\n",
       "    <tr>\n",
       "      <th>SG_UF_RESIDENCIA</th>\n",
       "      <th></th>\n",
       "    </tr>\n",
       "  </thead>\n",
       "  <tbody>\n",
       "    <tr>\n",
       "      <th>SE</th>\n",
       "      <td>400.317486</td>\n",
       "    </tr>\n",
       "    <tr>\n",
       "      <th>SC</th>\n",
       "      <td>378.532967</td>\n",
       "    </tr>\n",
       "    <tr>\n",
       "      <th>PB</th>\n",
       "      <td>373.248418</td>\n",
       "    </tr>\n",
       "    <tr>\n",
       "      <th>ES</th>\n",
       "      <td>373.038235</td>\n",
       "    </tr>\n",
       "    <tr>\n",
       "      <th>MG</th>\n",
       "      <td>372.647889</td>\n",
       "    </tr>\n",
       "    <tr>\n",
       "      <th>AL</th>\n",
       "      <td>368.122381</td>\n",
       "    </tr>\n",
       "    <tr>\n",
       "      <th>TO</th>\n",
       "      <td>367.189222</td>\n",
       "    </tr>\n",
       "    <tr>\n",
       "      <th>PI</th>\n",
       "      <td>364.963014</td>\n",
       "    </tr>\n",
       "    <tr>\n",
       "      <th>PA</th>\n",
       "      <td>363.490404</td>\n",
       "    </tr>\n",
       "    <tr>\n",
       "      <th>SP</th>\n",
       "      <td>363.462722</td>\n",
       "    </tr>\n",
       "    <tr>\n",
       "      <th>GO</th>\n",
       "      <td>362.925896</td>\n",
       "    </tr>\n",
       "    <tr>\n",
       "      <th>MA</th>\n",
       "      <td>356.778078</td>\n",
       "    </tr>\n",
       "    <tr>\n",
       "      <th>DF</th>\n",
       "      <td>356.488793</td>\n",
       "    </tr>\n",
       "    <tr>\n",
       "      <th>RN</th>\n",
       "      <td>356.436434</td>\n",
       "    </tr>\n",
       "    <tr>\n",
       "      <th>CE</th>\n",
       "      <td>355.569300</td>\n",
       "    </tr>\n",
       "    <tr>\n",
       "      <th>PE</th>\n",
       "      <td>354.168174</td>\n",
       "    </tr>\n",
       "    <tr>\n",
       "      <th>RO</th>\n",
       "      <td>349.679630</td>\n",
       "    </tr>\n",
       "    <tr>\n",
       "      <th>PR</th>\n",
       "      <td>346.536264</td>\n",
       "    </tr>\n",
       "    <tr>\n",
       "      <th>RJ</th>\n",
       "      <td>343.256219</td>\n",
       "    </tr>\n",
       "    <tr>\n",
       "      <th>BA</th>\n",
       "      <td>342.233553</td>\n",
       "    </tr>\n",
       "    <tr>\n",
       "      <th>RS</th>\n",
       "      <td>336.283633</td>\n",
       "    </tr>\n",
       "    <tr>\n",
       "      <th>MT</th>\n",
       "      <td>335.194096</td>\n",
       "    </tr>\n",
       "    <tr>\n",
       "      <th>AC</th>\n",
       "      <td>330.855224</td>\n",
       "    </tr>\n",
       "    <tr>\n",
       "      <th>MS</th>\n",
       "      <td>329.021925</td>\n",
       "    </tr>\n",
       "    <tr>\n",
       "      <th>RR</th>\n",
       "      <td>324.257576</td>\n",
       "    </tr>\n",
       "    <tr>\n",
       "      <th>AP</th>\n",
       "      <td>316.893151</td>\n",
       "    </tr>\n",
       "    <tr>\n",
       "      <th>AM</th>\n",
       "      <td>287.013869</td>\n",
       "    </tr>\n",
       "  </tbody>\n",
       "</table>\n",
       "</div>"
      ],
      "text/plain": [
       "                  NU_NOTA_MT\n",
       "SG_UF_RESIDENCIA            \n",
       "SE                400.317486\n",
       "SC                378.532967\n",
       "PB                373.248418\n",
       "ES                373.038235\n",
       "MG                372.647889\n",
       "AL                368.122381\n",
       "TO                367.189222\n",
       "PI                364.963014\n",
       "PA                363.490404\n",
       "SP                363.462722\n",
       "GO                362.925896\n",
       "MA                356.778078\n",
       "DF                356.488793\n",
       "RN                356.436434\n",
       "CE                355.569300\n",
       "PE                354.168174\n",
       "RO                349.679630\n",
       "PR                346.536264\n",
       "RJ                343.256219\n",
       "BA                342.233553\n",
       "RS                336.283633\n",
       "MT                335.194096\n",
       "AC                330.855224\n",
       "MS                329.021925\n",
       "RR                324.257576\n",
       "AP                316.893151\n",
       "AM                287.013869"
      ]
     },
     "execution_count": 53,
     "metadata": {},
     "output_type": "execute_result"
    }
   ],
   "source": [
    "bucket('SG_UF_RESIDENCIA', df)"
   ]
  },
  {
   "cell_type": "code",
   "execution_count": 54,
   "metadata": {},
   "outputs": [],
   "source": [
    "estados = {'SE': 23, 'SC': 22, 'PB': 21, 'ES': 21, 'MG': 20, 'AL': 19,\n",
    "           'TO': 18, 'PI': 17, 'PA': 16, 'SP': 16, 'GO': 15, 'MA': 14,\n",
    "           'DF': 14, 'RN': 14, 'CE': 13, 'PE': 12, 'RO': 11, 'PR': 10,\n",
    "           'RJ': 9, 'BA': 8, 'RS': 7, 'MT': 6, 'AC': 5, 'MS': 4, 'RR': 3, 'AP': 2, 'AM': 1}\n",
    "df['SG_UF_RESIDENCIA_BUCKET'] = df.SG_UF_RESIDENCIA.map(estados)\n",
    "df_test['SG_UF_RESIDENCIA_BUCKET'] = df_test.SG_UF_RESIDENCIA.map(estados)"
   ]
  },
  {
   "cell_type": "code",
   "execution_count": 55,
   "metadata": {},
   "outputs": [
    {
     "data": {
      "text/html": [
       "<div>\n",
       "<style scoped>\n",
       "    .dataframe tbody tr th:only-of-type {\n",
       "        vertical-align: middle;\n",
       "    }\n",
       "\n",
       "    .dataframe tbody tr th {\n",
       "        vertical-align: top;\n",
       "    }\n",
       "\n",
       "    .dataframe thead th {\n",
       "        text-align: right;\n",
       "    }\n",
       "</style>\n",
       "<table border=\"1\" class=\"dataframe\">\n",
       "  <thead>\n",
       "    <tr style=\"text-align: right;\">\n",
       "      <th></th>\n",
       "      <th>NU_NOTA_MT</th>\n",
       "    </tr>\n",
       "    <tr>\n",
       "      <th>Q024</th>\n",
       "      <th></th>\n",
       "    </tr>\n",
       "  </thead>\n",
       "  <tbody>\n",
       "    <tr>\n",
       "      <th>E</th>\n",
       "      <td>519.801031</td>\n",
       "    </tr>\n",
       "    <tr>\n",
       "      <th>D</th>\n",
       "      <td>499.272727</td>\n",
       "    </tr>\n",
       "    <tr>\n",
       "      <th>C</th>\n",
       "      <td>449.689942</td>\n",
       "    </tr>\n",
       "    <tr>\n",
       "      <th>B</th>\n",
       "      <td>368.077503</td>\n",
       "    </tr>\n",
       "    <tr>\n",
       "      <th>A</th>\n",
       "      <td>322.436843</td>\n",
       "    </tr>\n",
       "  </tbody>\n",
       "</table>\n",
       "</div>"
      ],
      "text/plain": [
       "      NU_NOTA_MT\n",
       "Q024            \n",
       "E     519.801031\n",
       "D     499.272727\n",
       "C     449.689942\n",
       "B     368.077503\n",
       "A     322.436843"
      ]
     },
     "execution_count": 55,
     "metadata": {},
     "output_type": "execute_result"
    }
   ],
   "source": [
    "bucket('Q024',df)"
   ]
  },
  {
   "cell_type": "code",
   "execution_count": 56,
   "metadata": {},
   "outputs": [
    {
     "data": {
      "text/plain": [
       "2    6441\n",
       "1    6107\n",
       "3     865\n",
       "4     220\n",
       "5      97\n",
       "Name: Q024_BUCKET, dtype: int64"
      ]
     },
     "execution_count": 56,
     "metadata": {},
     "output_type": "execute_result"
    }
   ],
   "source": [
    "df['Q024_BUCKET'] = df.Q024.replace(\n",
    "    'E', 5).replace(\n",
    "    'D', 4).replace(\n",
    "    'C', 3).replace(\n",
    "    'B', 2).replace(\n",
    "    'A', 1)\n",
    "df['Q024_BUCKET'].value_counts()"
   ]
  },
  {
   "cell_type": "code",
   "execution_count": 57,
   "metadata": {},
   "outputs": [
    {
     "data": {
      "text/plain": [
       "2    2144\n",
       "1    2047\n",
       "3     283\n",
       "4      78\n",
       "5      24\n",
       "Name: Q024_BUCKET, dtype: int64"
      ]
     },
     "execution_count": 57,
     "metadata": {},
     "output_type": "execute_result"
    }
   ],
   "source": [
    "df_test['Q024_BUCKET'] = df_test.Q024.replace(\n",
    "    'E', 5).replace(\n",
    "    'D', 4).replace(\n",
    "    'C', 3).replace(\n",
    "    'B', 2).replace(\n",
    "    'A', 1)\n",
    "df_test['Q024_BUCKET'].value_counts()"
   ]
  },
  {
   "cell_type": "markdown",
   "metadata": {},
   "source": [
    "Após análises preliminares na seção de exploração e visualização dos dados concluímos que algumas features já podem ser descartadas:\n",
    "- NU_INSCRICAO: não agrega ao modelo, mas é importante para a exportação do resultado no final.\n",
    "- IN_CEGUEIRA: tem apenas um grupo, 0 (ausente de cegueira)\n",
    "- TP_PRESENCA_LC: está atrelada à existencia de NU_NOTA_MT (prova de matemática e linguagens foram no mesmo dia)\n",
    "- CO_UF_RESIDENCIA: redundante. SG_UF_RESIDENCIA pode substituir\n",
    "- TP_ESCOLA é redundante: Q047\n",
    "- NU_NOTA_COMP1, NU_NOTA_COMP2, NU_NOTA_COMP3, NU_NOTA_COMP4, NU_NOTA_COMP5: são contínuas, mas já estão presentes na variável NU_NOTA_REDACAO\n",
    "- TP_ANO_CONCLUIU é direcionada apenas a quem já concluiu, TP_ST_CONCLUSAO 1 (ou 4, após conversão).\n",
    "- NU_NOTA_CN, NU_NOTA_CH, NU_NOTA_LC, NU_NOTA_REDACAO: aplicar suas features transformadas."
   ]
  },
  {
   "cell_type": "code",
   "execution_count": 58,
   "metadata": {},
   "outputs": [],
   "source": [
    "#Criando feature DIA1\n",
    "df['NU_NOTA_DIA1'] = (df.loc[:, ['NU_NOTA_CN', 'NU_NOTA_CH']] * [2, 1]).sum(axis=1) / sum([2, 1])\n",
    "df_test['NU_NOTA_DIA1'] = (df_test.loc[:, ['NU_NOTA_CN', 'NU_NOTA_CH']] * [2, 1]).sum(axis=1) / sum([2, 1])\n",
    "\n",
    "#Criando feature DIA2_PARCIAL\n",
    "df['NU_NOTA_DIA2_PARCIAL'] = (df.loc[:, ['NU_NOTA_LC', 'NU_NOTA_REDACAO']] * [1.5, 3]).sum(axis=1) / sum([1.5, 3])\n",
    "df_test['NU_NOTA_DIA2_PARCIAL'] = (df_test.loc[:, ['NU_NOTA_LC', 'NU_NOTA_REDACAO']] * [1.5, 3]).sum(axis=1) / sum([1.5, 3])\n",
    "\n",
    "#features que serão descartadas do modelo\n",
    "to_remove_v1 = np.array([\n",
    "    'IN_CEGUEIRA',\n",
    "    'TP_PRESENCA_LC',\n",
    "    'CO_UF_RESIDENCIA', \n",
    "    'TP_ESCOLA',\n",
    "    'NU_NOTA_COMP1', \n",
    "    'NU_NOTA_COMP2', \n",
    "    'NU_NOTA_COMP3', \n",
    "    'NU_NOTA_COMP4', \n",
    "    'NU_NOTA_COMP5',     \n",
    "    'TP_ANO_CONCLUIU',\n",
    "    'NU_NOTA_LC',\n",
    "    'NU_NOTA_REDACAO',\n",
    "    'NU_NOTA_CN',\n",
    "    'NU_NOTA_CH'\n",
    "    ])\n"
   ]
  },
  {
   "cell_type": "markdown",
   "metadata": {},
   "source": [
    "<a href=\"#contents\" class=\"btn btn-success\" style=\"padding:10px;text-decoration:none;\">Voltar ao Topo</a>"
   ]
  },
  {
   "cell_type": "markdown",
   "metadata": {},
   "source": [
    "<a  id=\"anova\"></a>\n",
    "<h3>ANOVA: Analysis of Variance</h3>\n",
    "<p>The Analysis of Variance  (ANOVA) is a statistical method used to test whether there are significant differences between the means of two or more groups. ANOVA returns two parameters:</p>\n",
    "\n",
    "<p><b>F-test score</b>: ANOVA assumes the means of all groups are the same, calculates how much the actual means deviate from the assumption, and reports it as the F-test score. A larger score means there is a larger difference between the means.</p>\n",
    "\n",
    "<p><b>P-value</b>:  P-value tells how statistically significant is our calculated score value.</p>\n",
    "\n",
    "<p>If our NU_NOTA_MT variable is strongly correlated with the variable we are analyzing, expect ANOVA to return a sizeable F-test score and a small p-value.</p>"
   ]
  },
  {
   "cell_type": "code",
   "execution_count": 59,
   "metadata": {},
   "outputs": [],
   "source": [
    "df.drop(to_remove_v1, axis=1, inplace=True)\n",
    "df_test.drop(to_remove_v1, axis=1, inplace=True)"
   ]
  },
  {
   "cell_type": "code",
   "execution_count": 60,
   "metadata": {},
   "outputs": [],
   "source": [
    "#para o notebook ficar mais resumido os testes anovas estão no arquivo AnovaTest.py\n",
    "from AnovaTest import AnovaTest as tt\n",
    "a = tt(df, df.columns).run()"
   ]
  },
  {
   "cell_type": "code",
   "execution_count": 61,
   "metadata": {},
   "outputs": [],
   "source": [
    "anova_test = pd.DataFrame(\n",
    "    data=a, \n",
    "    columns=['feature', 'F-score', 'P-value']\n",
    ").set_index(\n",
    "    'feature'\n",
    ").sort_values('P-value', ascending=True)"
   ]
  },
  {
   "cell_type": "code",
   "execution_count": 62,
   "metadata": {},
   "outputs": [
    {
     "data": {
      "text/html": [
       "<div>\n",
       "<style scoped>\n",
       "    .dataframe tbody tr th:only-of-type {\n",
       "        vertical-align: middle;\n",
       "    }\n",
       "\n",
       "    .dataframe tbody tr th {\n",
       "        vertical-align: top;\n",
       "    }\n",
       "\n",
       "    .dataframe thead th {\n",
       "        text-align: right;\n",
       "    }\n",
       "</style>\n",
       "<table border=\"1\" class=\"dataframe\">\n",
       "  <thead>\n",
       "    <tr style=\"text-align: right;\">\n",
       "      <th></th>\n",
       "      <th>F-score</th>\n",
       "      <th>P-value</th>\n",
       "    </tr>\n",
       "    <tr>\n",
       "      <th>feature</th>\n",
       "      <th></th>\n",
       "      <th></th>\n",
       "    </tr>\n",
       "  </thead>\n",
       "  <tbody>\n",
       "    <tr>\n",
       "      <th>TP_PRESENCA_CN</th>\n",
       "      <td>23385.847289</td>\n",
       "      <td>0.000000e+00</td>\n",
       "    </tr>\n",
       "    <tr>\n",
       "      <th>CO_PROVA_MT</th>\n",
       "      <td>12040.792058</td>\n",
       "      <td>0.000000e+00</td>\n",
       "    </tr>\n",
       "    <tr>\n",
       "      <th>CO_PROVA_LC</th>\n",
       "      <td>12040.792058</td>\n",
       "      <td>0.000000e+00</td>\n",
       "    </tr>\n",
       "    <tr>\n",
       "      <th>CO_PROVA_CH</th>\n",
       "      <td>6677.109436</td>\n",
       "      <td>0.000000e+00</td>\n",
       "    </tr>\n",
       "    <tr>\n",
       "      <th>CO_PROVA_CN</th>\n",
       "      <td>6677.109436</td>\n",
       "      <td>0.000000e+00</td>\n",
       "    </tr>\n",
       "    <tr>\n",
       "      <th>TP_PRESENCA_CH</th>\n",
       "      <td>23385.847289</td>\n",
       "      <td>0.000000e+00</td>\n",
       "    </tr>\n",
       "    <tr>\n",
       "      <th>NU_IDADE</th>\n",
       "      <td>27.460394</td>\n",
       "      <td>1.510596e-250</td>\n",
       "    </tr>\n",
       "    <tr>\n",
       "      <th>NU_IDADE_CATEGORY</th>\n",
       "      <td>402.029226</td>\n",
       "      <td>2.511613e-250</td>\n",
       "    </tr>\n",
       "    <tr>\n",
       "      <th>Q002</th>\n",
       "      <td>148.695721</td>\n",
       "      <td>2.993109e-154</td>\n",
       "    </tr>\n",
       "    <tr>\n",
       "      <th>Q047</th>\n",
       "      <td>180.327765</td>\n",
       "      <td>7.629319e-151</td>\n",
       "    </tr>\n",
       "    <tr>\n",
       "      <th>Q026</th>\n",
       "      <td>678.735351</td>\n",
       "      <td>4.346090e-146</td>\n",
       "    </tr>\n",
       "    <tr>\n",
       "      <th>Q006</th>\n",
       "      <td>84.131960</td>\n",
       "      <td>1.159089e-136</td>\n",
       "    </tr>\n",
       "    <tr>\n",
       "      <th>TP_ST_CONCLUSAO</th>\n",
       "      <td>200.953616</td>\n",
       "      <td>1.469718e-127</td>\n",
       "    </tr>\n",
       "    <tr>\n",
       "      <th>Q001</th>\n",
       "      <td>112.672431</td>\n",
       "      <td>4.353712e-117</td>\n",
       "    </tr>\n",
       "    <tr>\n",
       "      <th>Q024_BUCKET</th>\n",
       "      <td>184.818566</td>\n",
       "      <td>5.366805e-79</td>\n",
       "    </tr>\n",
       "    <tr>\n",
       "      <th>Q025</th>\n",
       "      <td>187.644017</td>\n",
       "      <td>1.974747e-42</td>\n",
       "    </tr>\n",
       "    <tr>\n",
       "      <th>TP_LINGUA</th>\n",
       "      <td>172.593130</td>\n",
       "      <td>3.460738e-39</td>\n",
       "    </tr>\n",
       "    <tr>\n",
       "      <th>TP_COR_RACA</th>\n",
       "      <td>35.033802</td>\n",
       "      <td>1.512303e-22</td>\n",
       "    </tr>\n",
       "    <tr>\n",
       "      <th>IN_TREINEIRO</th>\n",
       "      <td>85.784471</td>\n",
       "      <td>2.300155e-20</td>\n",
       "    </tr>\n",
       "    <tr>\n",
       "      <th>TP_SEXO</th>\n",
       "      <td>51.386660</td>\n",
       "      <td>7.972693e-13</td>\n",
       "    </tr>\n",
       "    <tr>\n",
       "      <th>TP_NACIONALIDADE</th>\n",
       "      <td>9.019763</td>\n",
       "      <td>2.847007e-07</td>\n",
       "    </tr>\n",
       "    <tr>\n",
       "      <th>SG_UF_RESIDENCIA_BUCKET</th>\n",
       "      <td>3.163173</td>\n",
       "      <td>8.028937e-07</td>\n",
       "    </tr>\n",
       "    <tr>\n",
       "      <th>SG_UF_RESIDENCIA</th>\n",
       "      <td>2.675775</td>\n",
       "      <td>7.962146e-06</td>\n",
       "    </tr>\n",
       "    <tr>\n",
       "      <th>IN_GESTANTE</th>\n",
       "      <td>10.870874</td>\n",
       "      <td>9.793654e-04</td>\n",
       "    </tr>\n",
       "    <tr>\n",
       "      <th>IN_IDOSO</th>\n",
       "      <td>1.127266</td>\n",
       "      <td>2.883779e-01</td>\n",
       "    </tr>\n",
       "    <tr>\n",
       "      <th>IN_DISCALCULIA</th>\n",
       "      <td>0.966817</td>\n",
       "      <td>3.254926e-01</td>\n",
       "    </tr>\n",
       "    <tr>\n",
       "      <th>IN_BAIXA_VISAO</th>\n",
       "      <td>0.588305</td>\n",
       "      <td>4.430886e-01</td>\n",
       "    </tr>\n",
       "    <tr>\n",
       "      <th>IN_DISLEXIA</th>\n",
       "      <td>0.379678</td>\n",
       "      <td>5.377856e-01</td>\n",
       "    </tr>\n",
       "    <tr>\n",
       "      <th>IN_SURDEZ</th>\n",
       "      <td>0.093999</td>\n",
       "      <td>7.591588e-01</td>\n",
       "    </tr>\n",
       "    <tr>\n",
       "      <th>IN_SABATISTA</th>\n",
       "      <td>0.082901</td>\n",
       "      <td>7.734083e-01</td>\n",
       "    </tr>\n",
       "  </tbody>\n",
       "</table>\n",
       "</div>"
      ],
      "text/plain": [
       "                              F-score        P-value\n",
       "feature                                             \n",
       "TP_PRESENCA_CN           23385.847289   0.000000e+00\n",
       "CO_PROVA_MT              12040.792058   0.000000e+00\n",
       "CO_PROVA_LC              12040.792058   0.000000e+00\n",
       "CO_PROVA_CH               6677.109436   0.000000e+00\n",
       "CO_PROVA_CN               6677.109436   0.000000e+00\n",
       "TP_PRESENCA_CH           23385.847289   0.000000e+00\n",
       "NU_IDADE                    27.460394  1.510596e-250\n",
       "NU_IDADE_CATEGORY          402.029226  2.511613e-250\n",
       "Q002                       148.695721  2.993109e-154\n",
       "Q047                       180.327765  7.629319e-151\n",
       "Q026                       678.735351  4.346090e-146\n",
       "Q006                        84.131960  1.159089e-136\n",
       "TP_ST_CONCLUSAO            200.953616  1.469718e-127\n",
       "Q001                       112.672431  4.353712e-117\n",
       "Q024_BUCKET                184.818566   5.366805e-79\n",
       "Q025                       187.644017   1.974747e-42\n",
       "TP_LINGUA                  172.593130   3.460738e-39\n",
       "TP_COR_RACA                 35.033802   1.512303e-22\n",
       "IN_TREINEIRO                85.784471   2.300155e-20\n",
       "TP_SEXO                     51.386660   7.972693e-13\n",
       "TP_NACIONALIDADE             9.019763   2.847007e-07\n",
       "SG_UF_RESIDENCIA_BUCKET      3.163173   8.028937e-07\n",
       "SG_UF_RESIDENCIA             2.675775   7.962146e-06\n",
       "IN_GESTANTE                 10.870874   9.793654e-04\n",
       "IN_IDOSO                     1.127266   2.883779e-01\n",
       "IN_DISCALCULIA               0.966817   3.254926e-01\n",
       "IN_BAIXA_VISAO               0.588305   4.430886e-01\n",
       "IN_DISLEXIA                  0.379678   5.377856e-01\n",
       "IN_SURDEZ                    0.093999   7.591588e-01\n",
       "IN_SABATISTA                 0.082901   7.734083e-01"
      ]
     },
     "execution_count": 62,
     "metadata": {},
     "output_type": "execute_result"
    }
   ],
   "source": [
    "anova_test"
   ]
  },
  {
   "cell_type": "code",
   "execution_count": 63,
   "metadata": {},
   "outputs": [
    {
     "data": {
      "text/plain": [
       "Index(['TP_PRESENCA_CN', 'CO_PROVA_MT', 'CO_PROVA_LC', 'CO_PROVA_CH',\n",
       "       'CO_PROVA_CN', 'TP_PRESENCA_CH', 'NU_IDADE_CATEGORY', 'Q002', 'Q047',\n",
       "       'Q026', 'TP_ST_CONCLUSAO', 'Q001', 'Q024_BUCKET', 'Q025', 'TP_LINGUA'],\n",
       "      dtype='object', name='feature')"
      ]
     },
     "execution_count": 63,
     "metadata": {},
     "output_type": "execute_result"
    }
   ],
   "source": [
    "anova_test[(anova_test['P-value'] < 0.001) & (anova_test['F-score'] > 100)].index"
   ]
  },
  {
   "cell_type": "markdown",
   "metadata": {},
   "source": [
    "<a href=\"#contents\" class=\"btn btn-success\" style=\"padding:10px;text-decoration:none;\">Voltar ao Topo</a>"
   ]
  },
  {
   "cell_type": "markdown",
   "metadata": {},
   "source": [
    "<a  id=\"selected_features\"></a>\n",
    "<h3>Features Selecionadas</h3>\n"
   ]
  },
  {
   "cell_type": "code",
   "execution_count": 64,
   "metadata": {
    "scrolled": true
   },
   "outputs": [],
   "source": [
    "selected_features_df = ['NU_INSCRICAO','NU_IDADE_CATEGORY', 'Q002', 'Q047', 'Q026', 'TP_ST_CONCLUSAO', 'Q001',\n",
    "     'Q024_BUCKET', 'Q025', 'TP_LINGUA','NU_NOTA_DIA1', 'NU_NOTA_DIA2_PARCIAL','NU_NOTA_MT']\n",
    "\n",
    "#todas, exceto NU_NOTA_MT, pois não existe neste dataset ;)\n",
    "selected_features_df_test = selected_features_df.copy()\n",
    "selected_features_df_test.remove('NU_NOTA_MT')"
   ]
  },
  {
   "cell_type": "code",
   "execution_count": 65,
   "metadata": {
    "scrolled": false
   },
   "outputs": [],
   "source": [
    "data_to_model = df.loc[:,selected_features_df].copy()\n",
    "data_to_test = df_test.loc[:, selected_features_df_test].copy()"
   ]
  },
  {
   "cell_type": "code",
   "execution_count": 66,
   "metadata": {},
   "outputs": [
    {
     "data": {
      "text/plain": [
       "(NU_INSCRICAO            category\n",
       " NU_IDADE_CATEGORY       category\n",
       " Q002                       int64\n",
       " Q047                       int64\n",
       " Q026                       int64\n",
       " TP_ST_CONCLUSAO            int64\n",
       " Q001                       int64\n",
       " Q024_BUCKET                int64\n",
       " Q025                    category\n",
       " TP_LINGUA               category\n",
       " NU_NOTA_DIA1             float64\n",
       " NU_NOTA_DIA2_PARCIAL     float64\n",
       " NU_NOTA_MT               float64\n",
       " dtype: object, NU_INSCRICAO            category\n",
       " NU_IDADE_CATEGORY       category\n",
       " Q002                       int64\n",
       " Q047                       int64\n",
       " Q026                       int64\n",
       " TP_ST_CONCLUSAO            int64\n",
       " Q001                       int64\n",
       " Q024_BUCKET                int64\n",
       " Q025                    category\n",
       " TP_LINGUA               category\n",
       " NU_NOTA_DIA1             float64\n",
       " NU_NOTA_DIA2_PARCIAL     float64\n",
       " dtype: object)"
      ]
     },
     "execution_count": 66,
     "metadata": {},
     "output_type": "execute_result"
    }
   ],
   "source": [
    "data_to_model.dtypes, data_to_test.dtypes"
   ]
  },
  {
   "cell_type": "markdown",
   "metadata": {},
   "source": [
    "Ven diagram<!--\n",
    "%%HTML\n",
    "<svg width=\"800\" height=\"380\">  \n",
    "  <circle cx=\"320\" cy=\"200\" r=\"160\" fill-opacity=\"0.2\" stroke=\"black\" stroke-width=\"2\" fill=\"yellow\" />\n",
    "  <circle cx=\"380\" cy=\"250\" r=\"60\" fill-opacity=\"0.2\" stroke=\"black\" stroke-width=\"2\" fill=\"red\" />\n",
    "  <circle cx=\"250\" cy=\"250\" r=\"60\" fill-opacity=\"0.2\" stroke=\"black\" stroke-width=\"2\" fill=\"green\" />\n",
    "  <circle cx=\"320\" cy=\"120\" r=\"60\" fill-opacity=\"0.2\" stroke=\"black\" stroke-width=\"2\" fill=\"blue\" />\n",
    "  <text  x=\"200\" y=\"250\" font-family=\"Verdana\" font-size=\"18\">categoricals</text>\n",
    "  <text  x=\"350\" y=\"250\" font-family=\"Verdana\" font-size=\"18\">to_remove</text>\n",
    "  <text  x=\"280\" y=\"120\" font-family=\"Verdana\" font-size=\"18\">continuous</text>   \n",
    "  <text  x=\"550\" y=\"185\" font-family=\"Verdana\" font-size=\"18\">All features</text>   \n",
    "  <line x1=\"430\" y1=\"125\" x2=\"550\" y2=\"180\" stroke=\"black\" stroke-width=\"2\" fill=\"black\" stroke-dasharray=\"5,3\"/>\n",
    "</svg>\n",
    "-->"
   ]
  },
  {
   "cell_type": "code",
   "execution_count": 67,
   "metadata": {
    "scrolled": true
   },
   "outputs": [
    {
     "name": "stdout",
     "output_type": "stream",
     "text": [
      "shape antes da seleção: (13730, 35)\n",
      "shape após seleção: (13730, 13)\n",
      "\n",
      "Foram 22 features removidas.\n"
     ]
    }
   ],
   "source": [
    "print('shape antes da seleção: {}\\nshape após seleção: {}'.format(df.shape, data_to_model.shape))\n",
    "print('\\nForam {} features removidas.'.format(df.shape[1]-data_to_model.shape[1]))"
   ]
  },
  {
   "cell_type": "markdown",
   "metadata": {},
   "source": [
    "<a href=\"#contents\" class=\"btn btn-success\" style=\"padding:10px;text-decoration:none;\">Voltar ao Topo</a>"
   ]
  },
  {
   "cell_type": "markdown",
   "metadata": {},
   "source": [
    "<a id=\"feature_engineering_2\"></a>\n",
    "<h2>Feature Engineering - Part 2</h2>"
   ]
  },
  {
   "cell_type": "code",
   "execution_count": 68,
   "metadata": {},
   "outputs": [],
   "source": [
    "#features binárias\n",
    "binaries = ['TP_LINGUA','Q025']"
   ]
  },
  {
   "cell_type": "code",
   "execution_count": 69,
   "metadata": {},
   "outputs": [],
   "source": [
    "data_to_model = pd.concat([data_to_model, pd.get_dummies(data_to_model[binaries], drop_first=True)], axis=1)\n",
    "data_to_model.drop(binaries, axis=1, inplace=True)\n",
    "\n",
    "data_to_test = pd.concat([data_to_test, pd.get_dummies(data_to_test[binaries], drop_first=True)], axis=1)\n",
    "data_to_test.drop(binaries, axis=1, inplace=True)"
   ]
  },
  {
   "cell_type": "code",
   "execution_count": 70,
   "metadata": {},
   "outputs": [],
   "source": [
    "to_int = data_to_model.iloc[:, 1:].dtypes[data_to_model.iloc[:, 1:].dtypes == 'category'].index\n",
    "for it in to_int:\n",
    "    data_to_model[it] = data_to_model[it].astype(int)\n",
    "\n",
    "to_int = data_to_test.iloc[:, 1:].dtypes[data_to_test.iloc[:, 1:].dtypes == 'category'].index\n",
    "for it in to_int:\n",
    "    data_to_test[it] = data_to_test[it].astype(int)"
   ]
  },
  {
   "cell_type": "code",
   "execution_count": 71,
   "metadata": {},
   "outputs": [
    {
     "data": {
      "text/plain": [
       "(NU_INSCRICAO            category\n",
       " NU_IDADE_CATEGORY          int64\n",
       " Q002                       int64\n",
       " Q047                       int64\n",
       " Q026                       int64\n",
       " TP_ST_CONCLUSAO            int64\n",
       " Q001                       int64\n",
       " Q024_BUCKET                int64\n",
       " NU_NOTA_DIA1             float64\n",
       " NU_NOTA_DIA2_PARCIAL     float64\n",
       " NU_NOTA_MT               float64\n",
       " TP_LINGUA_1                uint8\n",
       " Q025_B                     uint8\n",
       " dtype: object, NU_INSCRICAO            category\n",
       " NU_IDADE_CATEGORY          int64\n",
       " Q002                       int64\n",
       " Q047                       int64\n",
       " Q026                       int64\n",
       " TP_ST_CONCLUSAO            int64\n",
       " Q001                       int64\n",
       " Q024_BUCKET                int64\n",
       " NU_NOTA_DIA1             float64\n",
       " NU_NOTA_DIA2_PARCIAL     float64\n",
       " TP_LINGUA_1                uint8\n",
       " Q025_B                     uint8\n",
       " dtype: object)"
      ]
     },
     "execution_count": 71,
     "metadata": {},
     "output_type": "execute_result"
    }
   ],
   "source": [
    "data_to_model.dtypes, data_to_test.dtypes"
   ]
  },
  {
   "cell_type": "markdown",
   "metadata": {},
   "source": [
    "<a href=\"#contents\" class=\"btn btn-success\" style=\"padding:10px;text-decoration:none;\">Voltar ao Topo</a>"
   ]
  },
  {
   "cell_type": "markdown",
   "metadata": {},
   "source": [
    "<a id=\"data_to_model\"></a>\n",
    "<h2>Preparando os Dados para o Modelo</h2>\n",
    "\n",
    "<p>Obs.: Nesta primeira versão não irei normalizar.</p>"
   ]
  },
  {
   "cell_type": "markdown",
   "metadata": {},
   "source": [
    "simple_featuring_scaling = lambda x: x / x.max()\n",
    "\n",
    "min_max = lambda x: x - x.min() / x.max() - x.min()\n",
    "\n",
    "z_score = lambda x: x - x.mean() / x.std()"
   ]
  },
  {
   "cell_type": "raw",
   "metadata": {},
   "source": [
    "#describe() sem argumentos considera apenas features numéricas\n",
    "to_normalize = data_to_model.describe().columns.values.tolist()\n",
    "for it in to_normalize:\n",
    "    data_to_model[it] = (data_to_model[it] - data_to_model[it].mean()) / data_to_model[it].std()\n",
    "data_to_model[to_normalize].head()"
   ]
  },
  {
   "cell_type": "raw",
   "metadata": {},
   "source": [
    "#describe() sem argumentos considera apenas features numéricas\n",
    "to_normalize = data_to_test.describe().columns.values.tolist()\n",
    "for it in to_normalize:\n",
    "    data_to_test[it] = (data_to_test[it] - data_to_test[it].mean()) / data_to_test[it].std()\n",
    "data_to_test[to_normalize].head()"
   ]
  },
  {
   "cell_type": "code",
   "execution_count": 72,
   "metadata": {},
   "outputs": [],
   "source": [
    "#apenas colocando o target na última coluna\n",
    "data_to_model = pd.concat([data_to_model.drop('NU_NOTA_MT', axis=1), data_to_model['NU_NOTA_MT']], axis=1)"
   ]
  },
  {
   "cell_type": "code",
   "execution_count": 73,
   "metadata": {},
   "outputs": [],
   "source": [
    "#salvando uma cópia em csv dos dados prontos para o modelo.\n",
    "data_to_model.iloc[:, 1:].to_csv('data-to-model.csv', index=False)"
   ]
  },
  {
   "cell_type": "markdown",
   "metadata": {},
   "source": [
    "<a href=\"#contents\" class=\"btn btn-success\" style=\"padding:10px;text-decoration:none;\">Voltar ao Topo</a>"
   ]
  },
  {
   "cell_type": "markdown",
   "metadata": {},
   "source": [
    "<a id=\"model_development_mlr\"></a>\n",
    "<h2>Do Modelo à Evaluação: MLR</h2>"
   ]
  },
  {
   "cell_type": "code",
   "execution_count": 74,
   "metadata": {},
   "outputs": [],
   "source": [
    "import numpy as np\n",
    "from sklearn.linear_model import LinearRegression\n",
    "from sklearn.metrics import mean_squared_error, r2_score\n",
    "from sklearn.model_selection import cross_val_score, train_test_split"
   ]
  },
  {
   "cell_type": "code",
   "execution_count": 75,
   "metadata": {},
   "outputs": [
    {
     "data": {
      "text/plain": [
       "Index(['NU_INSCRICAO', 'NU_IDADE_CATEGORY', 'Q002', 'Q047', 'Q026',\n",
       "       'TP_ST_CONCLUSAO', 'Q001', 'Q024_BUCKET', 'NU_NOTA_DIA1',\n",
       "       'NU_NOTA_DIA2_PARCIAL', 'TP_LINGUA_1', 'Q025_B', 'NU_NOTA_MT'],\n",
       "      dtype='object')"
      ]
     },
     "execution_count": 75,
     "metadata": {},
     "output_type": "execute_result"
    }
   ],
   "source": [
    "data_to_model.columns"
   ]
  },
  {
   "cell_type": "code",
   "execution_count": 76,
   "metadata": {},
   "outputs": [],
   "source": [
    "y = data_to_model.loc[:, 'NU_NOTA_MT'].copy()\n",
    "X = data_to_model.drop(['NU_INSCRICAO', 'NU_NOTA_MT'], axis=1).copy()"
   ]
  },
  {
   "cell_type": "code",
   "execution_count": 77,
   "metadata": {},
   "outputs": [],
   "source": [
    "x_train, x_test, y_train, y_test = train_test_split(X, y, test_size=0.2, random_state=0)"
   ]
  },
  {
   "cell_type": "markdown",
   "metadata": {},
   "source": [
    "<a id=\"measures_in\"></a>\n",
    "<h3>In-Sample Evaluation</h3>"
   ]
  },
  {
   "cell_type": "code",
   "execution_count": 78,
   "metadata": {},
   "outputs": [],
   "source": [
    "lm_insample = LinearRegression()\n",
    "lm_insample.fit(x_train, y_train)\n",
    "yhat_insample = lm_insample.predict(x_train)"
   ]
  },
  {
   "cell_type": "code",
   "execution_count": 79,
   "metadata": {},
   "outputs": [
    {
     "name": "stdout",
     "output_type": "stream",
     "text": [
      "R2-score:  0.87775375674249\n",
      "MSE of G3 and predicted value is:  6399.192047452645\n",
      "**********\n",
      "Mean absolute error: 54.46\n",
      "Residual sum of squares (MSE): 6399.192\n"
     ]
    }
   ],
   "source": [
    "r_squared = r2_score(y_train, yhat_insample)\n",
    "mse = mean_squared_error(y_train, yhat_insample)\n",
    "\n",
    "print('R2-score: ', r_squared)\n",
    "print('MSE of G3 and predicted value is: ', mse)\n",
    "\n",
    "print('*' * 10)\n",
    "print(\"Mean absolute error: %.2f\" % np.mean(np.absolute(y_train - yhat_insample)))\n",
    "print(\"Residual sum of squares (MSE): %.3f\" % np.mean((y_train - yhat_insample) ** 2))"
   ]
  },
  {
   "cell_type": "markdown",
   "metadata": {},
   "source": [
    "<a id=\"measures_out\"></a>\n",
    "<h3>Out-Sample Evaluation</h3>"
   ]
  },
  {
   "cell_type": "code",
   "execution_count": 80,
   "metadata": {},
   "outputs": [],
   "source": [
    "lm_outsample = LinearRegression()\n",
    "lm_outsample.fit(x_train, y_train)\n",
    "yhat_outsample = lm_outsample.predict(x_test)"
   ]
  },
  {
   "cell_type": "code",
   "execution_count": 81,
   "metadata": {
    "scrolled": true
   },
   "outputs": [
    {
     "name": "stdout",
     "output_type": "stream",
     "text": [
      "R2-score:  0.874772005457924\n",
      "MSE of G3 and predicted value is:  6566.742940616837\n",
      "**********\n",
      "Mean absolute error: 55.72\n",
      "Residual sum of squares (MSE): 6566.743\n"
     ]
    }
   ],
   "source": [
    "r_squared = r2_score(y_test, yhat_outsample)\n",
    "mse = mean_squared_error(y_test, yhat_outsample)\n",
    "\n",
    "print('R2-score: ', r_squared)\n",
    "print('MSE of G3 and predicted value is: ', mse)\n",
    "\n",
    "print('*' * 10)\n",
    "print(\"Mean absolute error: %.2f\" % np.mean(np.absolute(y_test - yhat_outsample)))\n",
    "print(\"Residual sum of squares (MSE): %.3f\" % np.mean((y_test - yhat_outsample) ** 2))"
   ]
  },
  {
   "cell_type": "code",
   "execution_count": 82,
   "metadata": {},
   "outputs": [],
   "source": [
    "scores = cross_val_score(lm_outsample, X, y, cv=4)"
   ]
  },
  {
   "cell_type": "code",
   "execution_count": 83,
   "metadata": {
    "scrolled": false
   },
   "outputs": [
    {
     "name": "stdout",
     "output_type": "stream",
     "text": [
      "scores: [0.87579963 0.87620413 0.87977713 0.87558004]\n",
      "scores mean: 0.8768402332293304\n"
     ]
    }
   ],
   "source": [
    "print('scores: {}\\nscores mean: {}'.format(scores, scores.mean()))"
   ]
  },
  {
   "cell_type": "markdown",
   "metadata": {},
   "source": [
    "<a id=\"measures_visualization\"></a>\n",
    "<h3>Visualização: Y x Y^</h3>"
   ]
  },
  {
   "cell_type": "code",
   "execution_count": 84,
   "metadata": {
    "scrolled": true
   },
   "outputs": [
    {
     "data": {
      "image/png": "[encoded data removed]",
      "text/plain": [
       "<Figure size 432x288 with 1 Axes>"
      ]
     },
     "metadata": {
      "needs_background": "light"
     },
     "output_type": "display_data"
    },
    {
     "data": {
      "image/png": "[encoded data removed]",
      "text/plain": [
       "<Figure size 432x288 with 1 Axes>"
      ]
     },
     "metadata": {
      "needs_background": "light"
     },
     "output_type": "display_data"
    }
   ],
   "source": [
    "plt.figure()\n",
    "\n",
    "ax1 = sns.distplot(y_train, hist=False, color=\"r\", label=\"Actual Value\")\n",
    "sns.distplot(yhat_insample, hist=False, color=\"b\", label=\"Fitted Values\" , ax=ax1)\n",
    "\n",
    "plt.title('Actual vs Fitted Values for Nota Final - In Sample Evaluation')\n",
    "plt.xlabel('Nota Final')\n",
    "plt.ylabel('Proportion')\n",
    "\n",
    "plt.show()\n",
    "#plt.savefig('in_sample.png',transparent = True)\n",
    "plt.close()\n",
    "######################\n",
    "plt.figure()\n",
    "\n",
    "ax1 = sns.distplot(y_test, hist=False, color=\"r\", label=\"Actual Value\")\n",
    "sns.distplot(yhat_outsample, hist=False, color=\"b\", label=\"Fitted Values\" , ax=ax1)\n",
    "\n",
    "plt.title('Actual vs Fitted Values for Nota Final - Out Sample Evaluation')\n",
    "plt.xlabel('Nota Final')\n",
    "plt.ylabel('Proportion')\n",
    "\n",
    "plt.show()\n",
    "#plt.savefig('out_sample.png',transparent = True)\n",
    "plt.close()"
   ]
  },
  {
   "cell_type": "markdown",
   "metadata": {},
   "source": [
    "<div class=\"alert alert-block alert-success\"> Neste ponto o modelo foi treinado e testado. Agora vamos aplicá-lo ao conjunto test.csv, previamente tratado como data_to_test, e obter as predições. Estas serão unidas aos seus números de inscrições e exportadas para answer.csv.</div>"
   ]
  },
  {
   "cell_type": "code",
   "execution_count": 85,
   "metadata": {},
   "outputs": [
    {
     "data": {
      "text/plain": [
       "(Index(['NU_INSCRICAO', 'NU_IDADE_CATEGORY', 'Q002', 'Q047', 'Q026',\n",
       "        'TP_ST_CONCLUSAO', 'Q001', 'Q024_BUCKET', 'NU_NOTA_DIA1',\n",
       "        'NU_NOTA_DIA2_PARCIAL', 'TP_LINGUA_1', 'Q025_B'],\n",
       "       dtype='object'),\n",
       " Index(['NU_INSCRICAO', 'NU_IDADE_CATEGORY', 'Q002', 'Q047', 'Q026',\n",
       "        'TP_ST_CONCLUSAO', 'Q001', 'Q024_BUCKET', 'NU_NOTA_DIA1',\n",
       "        'NU_NOTA_DIA2_PARCIAL', 'TP_LINGUA_1', 'Q025_B', 'NU_NOTA_MT'],\n",
       "       dtype='object'))"
      ]
     },
     "execution_count": 85,
     "metadata": {},
     "output_type": "execute_result"
    }
   ],
   "source": [
    "data_to_test.columns, data_to_model.columns"
   ]
  },
  {
   "cell_type": "code",
   "execution_count": 86,
   "metadata": {},
   "outputs": [],
   "source": [
    "data_to_test['NU_NOTA_MT'] = lm_outsample.predict(data_to_test.iloc[:, 1:12])"
   ]
  },
  {
   "cell_type": "code",
   "execution_count": 87,
   "metadata": {},
   "outputs": [],
   "source": [
    "data_to_test.loc[:, ['NU_INSCRICAO', 'NU_NOTA_MT']].to_csv('answer.csv', index=False)"
   ]
  },
  {
   "cell_type": "markdown",
   "metadata": {},
   "source": [
    "<a href=\"#contents\" class=\"btn btn-success\" style=\"padding:10px;text-decoration:none;\">Voltar ao Topo</a>"
   ]
  },
  {
   "cell_type": "markdown",
   "metadata": {},
   "source": [
    "<h3 style=\"color:blue; text-align:center;padding-top:50px;\">Uma ano aguardando a aceleração de Data Science da Codenation sair. Finalmente!</h3>\n",
    "<div class=\"alert alert-block\">\n",
    "    <img src=\"score.png\" align=\"center\">\n",
    "</div>"
   ]
  }
 ],
 "metadata": {
  "kernelspec": {
   "display_name": "Python 3",
   "language": "python",
   "name": "python3"
  },
  "language_info": {
   "codemirror_mode": {
    "name": "ipython",
    "version": 3
   },
   "file_extension": ".py",
   "mimetype": "text/x-python",
   "name": "python",
   "nbconvert_exporter": "python",
   "pygments_lexer": "ipython3",
   "version": "3.6.8"
  }
 },
 "nbformat": 4,
 "nbformat_minor": 2
}
